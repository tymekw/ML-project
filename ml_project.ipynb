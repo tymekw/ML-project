{
 "cells": [
  {
   "cell_type": "code",
   "execution_count": 1,
   "metadata": {
    "collapsed": true
   },
   "outputs": [],
   "source": [
    "import tensorflow_datasets as tfds\n",
    "import tensorflow_hub as hub\n",
    "from tensorflow.keras.preprocessing import image\n",
    "import urllib3  # the lib that handles the url stuff\n",
    "from PIL import Image\n",
    "import numpy as np\n",
    "import ast\n",
    "import matplotlib.pyplot as plt\n",
    "import tensorflow as tf\n"
   ]
  },
  {
   "cell_type": "code",
   "execution_count": null,
   "outputs": [],
   "source": [
    "# train_ds, metadata = tfds.load(\n",
    "#     'imagenet_v2',\n",
    "#     split='test',\n",
    "#     with_info=True,\n",
    "#     as_supervised=True\n",
    "# )"
   ],
   "metadata": {
    "collapsed": false,
    "pycharm": {
     "name": "#%%\n"
    }
   }
  },
  {
   "cell_type": "code",
   "execution_count": 2,
   "outputs": [],
   "source": [
    "detector = hub.load(\"https://tfhub.dev/tensorflow/centernet/resnet50v1_fpn_512x512/1\")"
   ],
   "metadata": {
    "collapsed": false,
    "pycharm": {
     "name": "#%%\n"
    }
   }
  },
  {
   "cell_type": "code",
   "execution_count": 3,
   "outputs": [],
   "source": [
    "def predict(my_image):\n",
    "    # commented for open_image_from_google\n",
    "    # my_image = image.smart_resize(my_image, size=(1024, 1024))\n",
    "    x = image.img_to_array(my_image)\n",
    "    x = np.expand_dims(x, axis=0)\n",
    "    preds = detector(x)\n",
    "    return preds, my_image"
   ],
   "metadata": {
    "collapsed": false,
    "pycharm": {
     "name": "#%%\n"
    }
   }
  },
  {
   "cell_type": "code",
   "execution_count": 17,
   "outputs": [],
   "source": [
    "def open_image_from_google(coco):\n",
    "\n",
    "    impath = \"D:\\\\AGH\\\\VI semestr\\\\ML\\\\datasetGoogle\\\\OIDv4_ToolKit\\\\OID\\\\Dataset\\\\test\\\\Apple\\\\964b69442edeec04.jpg\"\n",
    "\n",
    "    apple = Image.open(impath)\n",
    "    result, x = predict(apple)\n",
    "    results = {key:value.numpy() for key,value in result.items()}\n",
    "    detection_classes = results['detection_classes']\n",
    "    print(\"model thinks: \" + coco[detection_classes[0][0]])\n",
    "\n"
   ],
   "metadata": {
    "collapsed": false,
    "pycharm": {
     "name": "#%%\n"
    }
   }
  },
  {
   "cell_type": "code",
   "execution_count": 5,
   "outputs": [],
   "source": [
    "def get_coco_labels():\n",
    "    http = urllib3.PoolManager()\n",
    "    r = http.request('GET', 'https://raw.githubusercontent.com/amikelive/coco-labels/master/coco-labels-paper.txt')\n",
    "    dane = r.data.decode('UTF-8')\n",
    "    my_data = dane.split('\\n')\n",
    "\n",
    "    coco = {i+1: my_data[i] for i in range(0,len(my_data))}\n",
    "    # print(coco)\n",
    "    return coco"
   ],
   "metadata": {
    "collapsed": false,
    "pycharm": {
     "name": "#%%\n"
    }
   }
  },
  {
   "cell_type": "code",
   "execution_count": 8,
   "outputs": [],
   "source": [
    "def get_imagent_labels():\n",
    "    http = urllib3.PoolManager()\n",
    "    r = http.request('GET', 'https://gist.githubusercontent.com/maraoz/388eddec39d60c6d52d4/raw/791d5b370e4e31a4e9058d49005be4888ca98472/gistfile1.txt')\n",
    "    dane = r.data.decode('UTF-8')\n",
    "    imagenet = ast.literal_eval(dane)\n",
    "\n",
    "    return imagenet"
   ],
   "metadata": {
    "collapsed": false,
    "pycharm": {
     "name": "#%%\n"
    }
   }
  },
  {
   "cell_type": "code",
   "execution_count": null,
   "outputs": [],
   "source": [
    "# iterator = iter(train_ds)\n",
    "# for i in range(0,10):\n",
    "#     image1, label1 = next(iterator)\n",
    "#     result, x = predict(image1)\n",
    "#     plt.figure()\n",
    "#     plt.imshow(image1)\n",
    "#     plt.show()\n",
    "#     print(\"is: \" + imagenet[label1.numpy()])\n",
    "#\n",
    "#     results = {key:value.numpy() for key,value in result.items()}\n",
    "#     detection_classes = result['detection_classes']\n",
    "#     print(\"model thinks: \" + coco[detection_classes[0][0].numpy()])\n"
   ],
   "metadata": {
    "collapsed": false,
    "pycharm": {
     "name": "#%%\n"
    }
   }
  },
  {
   "cell_type": "code",
   "execution_count": 18,
   "outputs": [
    {
     "name": "stdout",
     "output_type": "stream",
     "text": [
      "[[53. 53. 53. 51. 53. 53. 53. 53. 53. 53. 53. 51. 53. 53. 55. 53. 60. 53.\n",
      "  53. 53. 53. 53. 52. 53. 52. 51. 53. 60. 53. 53. 53. 53. 51. 61. 60. 60.\n",
      "  52. 52. 60. 51. 52. 53.  1. 54. 79. 61. 53. 60. 58. 53. 55. 60. 52. 53.\n",
      "  55. 28. 62. 52. 16. 78. 53. 55. 78. 53. 16. 72. 84. 60. 79. 53. 58. 67.\n",
      "  53. 53. 53. 55. 52. 57. 53. 53. 72. 61. 55. 82.  1. 52. 82. 51. 58. 60.\n",
      "  16. 52. 51. 53. 54. 55. 52. 61. 61. 67.]]\n",
      "model thinks: apple\n"
     ]
    }
   ],
   "source": [
    "coco = get_coco_labels()\n",
    "open_image_from_google(coco)\n",
    "\n"
   ],
   "metadata": {
    "collapsed": false,
    "pycharm": {
     "name": "#%%\n"
    }
   }
  }
 ],
 "metadata": {
  "kernelspec": {
   "display_name": "Python 3",
   "language": "python",
   "name": "python3"
  },
  "language_info": {
   "codemirror_mode": {
    "name": "ipython",
    "version": 2
   },
   "file_extension": ".py",
   "mimetype": "text/x-python",
   "name": "python",
   "nbconvert_exporter": "python",
   "pygments_lexer": "ipython2",
   "version": "2.7.6"
  }
 },
 "nbformat": 4,
 "nbformat_minor": 0
}