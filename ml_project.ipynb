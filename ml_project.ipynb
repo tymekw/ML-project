{
 "cells": [
  {
   "cell_type": "code",
   "execution_count": 4,
   "metadata": {
    "collapsed": true
   },
   "outputs": [],
   "source": [
    "import tensorflow_hub as hub\n",
    "from tensorflow.keras.preprocessing import image\n",
    "import urllib3  # the lib that handles the url stuff\n",
    "from PIL import Image\n",
    "import numpy as np\n",
    "import os\n",
    "import csv"
   ]
  },
  {
   "cell_type": "code",
   "execution_count": 5,
   "outputs": [],
   "source": [
    "detector = hub.load(\"https://tfhub.dev/tensorflow/centernet/resnet50v1_fpn_512x512/1\")"
   ],
   "metadata": {
    "collapsed": false,
    "pycharm": {
     "name": "#%%\n"
    }
   }
  },
  {
   "cell_type": "code",
   "execution_count": 6,
   "outputs": [],
   "source": [
    "def predict(my_image):\n",
    "    # commented for open_image_from_google\n",
    "    # my_image = image.smart_resize(my_image, size=(1024, 1024))\n",
    "    x = image.img_to_array(my_image)\n",
    "    x = np.expand_dims(x, axis=0)\n",
    "    preds = detector(x)\n",
    "    return preds"
   ],
   "metadata": {
    "collapsed": false,
    "pycharm": {
     "name": "#%%\n"
    }
   }
  },
  {
   "cell_type": "code",
   "execution_count": 7,
   "outputs": [],
   "source": [
    "def open_image_from_google(coco):\n",
    "\n",
    "    impath = \"D:\\\\AGH\\\\VI semestr\\\\ML\\\\datasetGoogle\\\\OIDv4_ToolKit\\\\OID\\\\Dataset\\\\test\\\\Apple\\\\964b69442edeec04.jpg\"\n",
    "\n",
    "    apple = Image.open(impath)\n",
    "    result, x = predict(apple)\n",
    "    results = {key:value.numpy() for key,value in result.items()}\n",
    "    detection_classes = results['detection_classes']\n",
    "    print(\"model thinks: \" + coco[detection_classes[0][0]])"
   ],
   "metadata": {
    "collapsed": false,
    "pycharm": {
     "name": "#%%\n"
    }
   }
  },
  {
   "cell_type": "code",
   "execution_count": 8,
   "outputs": [],
   "source": [
    "def get_coco_labels():\n",
    "    http = urllib3.PoolManager()\n",
    "    r = http.request('GET', 'https://raw.githubusercontent.com/amikelive/coco-labels/master/coco-labels-paper.txt')\n",
    "    dane = r.data.decode('UTF-8')\n",
    "    my_data = dane.split('\\n')\n",
    "\n",
    "    coco = {i+1: my_data[i] for i in range(0,len(my_data))}\n",
    "    return coco\n"
   ],
   "metadata": {
    "collapsed": false,
    "pycharm": {
     "name": "#%%\n"
    }
   }
  },
  {
   "cell_type": "code",
   "execution_count": 9,
   "outputs": [],
   "source": [
    "def get_downloadable_labels_str(coco):\n",
    "    d = {value:1 for value in coco.values()}\n",
    "    # tmp = d[\"street sign\"]\n",
    "\n",
    "    # nowa googlowa          stara coco\n",
    "    d[\"traffic sign\"] = d.pop(\"street sign\")\n",
    "    d[\"bull\"] = d.pop(\"cow\")\n",
    "    d[\"glasses\"] = d.pop(\"eye glasses\")\n",
    "    d[\"boot\"] = d.pop(\"shoe\")\n",
    "    d[\"hair dryer\"] = d.pop(\"hair drier\")\n",
    "    d[\"doughnut\"] = d.pop(\"donut\")\n",
    "    d[\"microwave oven\"] = d.pop(\"microwave\")\n",
    "    d[\"telephone\"] = d.pop(\"cell phone\")\n",
    "    d[\"computer keyboard\"] = d.pop(\"keyboard\")\n",
    "    d[\"remote control\"] = d.pop(\"remote\")\n",
    "    d[\"computer mouse\"] = d.pop(\"mouse\")\n",
    "    d[\"television\"] = d.pop(\"tv\")\n",
    "    d[\"Kitchen dining room table\"] = d.pop(\"dining table\")\n",
    "    d[\"plant\"] = d.pop(\"potted plant\")\n",
    "    d[\"ski\"] = d.pop(\"skis\")\n",
    "    d[\"volleyball\"] = d.pop(\"sports ball\")\n",
    "    d[\"coffee cup\"] = d.pop(\"cup\")\n",
    "    d[\"flying disc\"] = d.pop(\"frisbee\")\n",
    "    # hairbrush\n",
    "    d.pop(\"hair brush\")\n",
    "\n",
    "    labels = list(d.keys())\n",
    "    lb = [x.capitalize() for x in labels]\n",
    "    lb1 = [label.replace(\" \",\"_\") for label in lb]\n",
    "    str1 = \" \"\n",
    "    names = str1.join(lb1)\n",
    "    print(names)\n",
    "    return names\n",
    "\n",
    "\n"
   ],
   "metadata": {
    "collapsed": false,
    "pycharm": {
     "name": "#%% enables to download photos\n"
    }
   }
  },
  {
   "cell_type": "code",
   "execution_count": 10,
   "outputs": [
    {
     "name": "stdout",
     "output_type": "stream",
     "text": [
      "{'airplane': ['D:\\\\AGH\\\\VI semestr\\\\ML\\\\datasetGoogle\\\\OIDv4_ToolKit\\\\OID\\\\Dataset\\\\test\\\\Airplane\\\\2e89b6830d277669.jpg'], 'apple': ['D:\\\\AGH\\\\VI semestr\\\\ML\\\\datasetGoogle\\\\OIDv4_ToolKit\\\\OID\\\\Dataset\\\\test\\\\Apple\\\\44749496c016708d.jpg', 'D:\\\\AGH\\\\VI semestr\\\\ML\\\\datasetGoogle\\\\OIDv4_ToolKit\\\\OID\\\\Dataset\\\\test\\\\Apple\\\\964b69442edeec04.jpg', 'D:\\\\AGH\\\\VI semestr\\\\ML\\\\datasetGoogle\\\\OIDv4_ToolKit\\\\OID\\\\Dataset\\\\test\\\\Apple\\\\ba813e858a702b5a.jpg'], 'backpack': ['D:\\\\AGH\\\\VI semestr\\\\ML\\\\datasetGoogle\\\\OIDv4_ToolKit\\\\OID\\\\Dataset\\\\test\\\\Backpack\\\\723e70fe85e0da69.jpg'], 'banana': ['D:\\\\AGH\\\\VI semestr\\\\ML\\\\datasetGoogle\\\\OIDv4_ToolKit\\\\OID\\\\Dataset\\\\test\\\\Banana\\\\eeb93d366d6c69e7.jpg'], 'baseball bat': ['D:\\\\AGH\\\\VI semestr\\\\ML\\\\datasetGoogle\\\\OIDv4_ToolKit\\\\OID\\\\Dataset\\\\test\\\\Baseball bat\\\\9a6747129ee9d39d.jpg'], 'baseball glove': ['D:\\\\AGH\\\\VI semestr\\\\ML\\\\datasetGoogle\\\\OIDv4_ToolKit\\\\OID\\\\Dataset\\\\test\\\\Baseball glove\\\\0298c70279b6e842.jpg', 'D:\\\\AGH\\\\VI semestr\\\\ML\\\\datasetGoogle\\\\OIDv4_ToolKit\\\\OID\\\\Dataset\\\\test\\\\Baseball glove\\\\874414cc77f9c4a5.jpg', 'D:\\\\AGH\\\\VI semestr\\\\ML\\\\datasetGoogle\\\\OIDv4_ToolKit\\\\OID\\\\Dataset\\\\test\\\\Baseball glove\\\\a2c1d4542901af59.jpg'], 'bear': ['D:\\\\AGH\\\\VI semestr\\\\ML\\\\datasetGoogle\\\\OIDv4_ToolKit\\\\OID\\\\Dataset\\\\test\\\\Bear\\\\6c413bd13881e4ea.jpg'], 'bed': ['D:\\\\AGH\\\\VI semestr\\\\ML\\\\datasetGoogle\\\\OIDv4_ToolKit\\\\OID\\\\Dataset\\\\test\\\\Bed\\\\c00205af50959af3.jpg'], 'bicycle': ['D:\\\\AGH\\\\VI semestr\\\\ML\\\\datasetGoogle\\\\OIDv4_ToolKit\\\\OID\\\\Dataset\\\\test\\\\Bicycle\\\\626978826a473e2d.jpg'], 'bird': ['D:\\\\AGH\\\\VI semestr\\\\ML\\\\datasetGoogle\\\\OIDv4_ToolKit\\\\OID\\\\Dataset\\\\test\\\\Bird\\\\8d821e6cb06ecb75.jpg'], 'blender': ['D:\\\\AGH\\\\VI semestr\\\\ML\\\\datasetGoogle\\\\OIDv4_ToolKit\\\\OID\\\\Dataset\\\\test\\\\Blender\\\\13af85d451edaf21.jpg'], 'boat': ['D:\\\\AGH\\\\VI semestr\\\\ML\\\\datasetGoogle\\\\OIDv4_ToolKit\\\\OID\\\\Dataset\\\\test\\\\Boat\\\\9d011170c1a57ddd.jpg'], 'book': ['D:\\\\AGH\\\\VI semestr\\\\ML\\\\datasetGoogle\\\\OIDv4_ToolKit\\\\OID\\\\Dataset\\\\test\\\\Book\\\\723e70fe85e0da69.jpg'], 'boot': ['D:\\\\AGH\\\\VI semestr\\\\ML\\\\datasetGoogle\\\\OIDv4_ToolKit\\\\OID\\\\Dataset\\\\test\\\\Boot\\\\072c0b43000fbc13.jpg'], 'bottle': ['D:\\\\AGH\\\\VI semestr\\\\ML\\\\datasetGoogle\\\\OIDv4_ToolKit\\\\OID\\\\Dataset\\\\test\\\\Bottle\\\\98cf1c79d74b02ac.jpg'], 'bowl': ['D:\\\\AGH\\\\VI semestr\\\\ML\\\\datasetGoogle\\\\OIDv4_ToolKit\\\\OID\\\\Dataset\\\\test\\\\Bowl\\\\fa328611b9472ef2.jpg'], 'broccoli': ['D:\\\\AGH\\\\VI semestr\\\\ML\\\\datasetGoogle\\\\OIDv4_ToolKit\\\\OID\\\\Dataset\\\\test\\\\Broccoli\\\\c9499b29b88d1001.jpg'], 'bull': ['D:\\\\AGH\\\\VI semestr\\\\ML\\\\datasetGoogle\\\\OIDv4_ToolKit\\\\OID\\\\Dataset\\\\test\\\\Bull\\\\a0c7f08ce895ff52.jpg'], 'bus': ['D:\\\\AGH\\\\VI semestr\\\\ML\\\\datasetGoogle\\\\OIDv4_ToolKit\\\\OID\\\\Dataset\\\\test\\\\Bus\\\\7d9a377ad4b909c8.jpg'], 'cake': ['D:\\\\AGH\\\\VI semestr\\\\ML\\\\datasetGoogle\\\\OIDv4_ToolKit\\\\OID\\\\Dataset\\\\test\\\\Cake\\\\4141962f6bb40bee.jpg'], 'car': ['D:\\\\AGH\\\\VI semestr\\\\ML\\\\datasetGoogle\\\\OIDv4_ToolKit\\\\OID\\\\Dataset\\\\test\\\\Car\\\\79b23383a15bc835.jpg'], 'carrot': ['D:\\\\AGH\\\\VI semestr\\\\ML\\\\datasetGoogle\\\\OIDv4_ToolKit\\\\OID\\\\Dataset\\\\test\\\\Carrot\\\\46116ae03b5479fe.jpg'], 'cat': ['D:\\\\AGH\\\\VI semestr\\\\ML\\\\datasetGoogle\\\\OIDv4_ToolKit\\\\OID\\\\Dataset\\\\test\\\\Cat\\\\e653e2eac3883154.jpg'], 'chair': ['D:\\\\AGH\\\\VI semestr\\\\ML\\\\datasetGoogle\\\\OIDv4_ToolKit\\\\OID\\\\Dataset\\\\test\\\\Chair\\\\1bcc4f38521cf717.jpg'], 'clock': ['D:\\\\AGH\\\\VI semestr\\\\ML\\\\datasetGoogle\\\\OIDv4_ToolKit\\\\OID\\\\Dataset\\\\test\\\\Clock\\\\8be7a7941430fa17.jpg'], 'coffee cup': ['D:\\\\AGH\\\\VI semestr\\\\ML\\\\datasetGoogle\\\\OIDv4_ToolKit\\\\OID\\\\Dataset\\\\test\\\\Coffee cup\\\\999415862220b779.jpg'], 'computer keyboard': ['D:\\\\AGH\\\\VI semestr\\\\ML\\\\datasetGoogle\\\\OIDv4_ToolKit\\\\OID\\\\Dataset\\\\test\\\\Computer keyboard\\\\78f4402b5b0277bb.jpg'], 'computer mouse': ['D:\\\\AGH\\\\VI semestr\\\\ML\\\\datasetGoogle\\\\OIDv4_ToolKit\\\\OID\\\\Dataset\\\\test\\\\Computer mouse\\\\8ce355f47f0d1c45.jpg', 'D:\\\\AGH\\\\VI semestr\\\\ML\\\\datasetGoogle\\\\OIDv4_ToolKit\\\\OID\\\\Dataset\\\\test\\\\Computer mouse\\\\914617aee0e735d4.jpg'], 'couch': ['D:\\\\AGH\\\\VI semestr\\\\ML\\\\datasetGoogle\\\\OIDv4_ToolKit\\\\OID\\\\Dataset\\\\test\\\\Couch\\\\529f91432a0d4a6f.jpg'], 'desk': ['D:\\\\AGH\\\\VI semestr\\\\ML\\\\datasetGoogle\\\\OIDv4_ToolKit\\\\OID\\\\Dataset\\\\test\\\\Desk\\\\1fe42568c60af74e.jpg'], 'dog': ['D:\\\\AGH\\\\VI semestr\\\\ML\\\\datasetGoogle\\\\OIDv4_ToolKit\\\\OID\\\\Dataset\\\\test\\\\Dog\\\\ca410a99ebddf843.jpg'], 'door': ['D:\\\\AGH\\\\VI semestr\\\\ML\\\\datasetGoogle\\\\OIDv4_ToolKit\\\\OID\\\\Dataset\\\\test\\\\Door\\\\251e861dbf438e9c.jpg'], 'doughnut': ['D:\\\\AGH\\\\VI semestr\\\\ML\\\\datasetGoogle\\\\OIDv4_ToolKit\\\\OID\\\\Dataset\\\\test\\\\Doughnut\\\\5a6f636091572af6.jpg'], 'elephant': ['D:\\\\AGH\\\\VI semestr\\\\ML\\\\datasetGoogle\\\\OIDv4_ToolKit\\\\OID\\\\Dataset\\\\test\\\\Elephant\\\\b1708bd114f0e80c.jpg'], 'fire hydrant': ['D:\\\\AGH\\\\VI semestr\\\\ML\\\\datasetGoogle\\\\OIDv4_ToolKit\\\\OID\\\\Dataset\\\\test\\\\Fire hydrant\\\\a4b878b4912c9967.jpg'], 'flying disc': ['D:\\\\AGH\\\\VI semestr\\\\ML\\\\datasetGoogle\\\\OIDv4_ToolKit\\\\OID\\\\Dataset\\\\test\\\\Flying disc\\\\d55bbf3cedb6f69d.jpg'], 'fork': ['D:\\\\AGH\\\\VI semestr\\\\ML\\\\datasetGoogle\\\\OIDv4_ToolKit\\\\OID\\\\Dataset\\\\test\\\\Fork\\\\c9499b29b88d1001.jpg'], 'giraffe': ['D:\\\\AGH\\\\VI semestr\\\\ML\\\\datasetGoogle\\\\OIDv4_ToolKit\\\\OID\\\\Dataset\\\\test\\\\Giraffe\\\\3f077219208c6584.jpg'], 'glasses': ['D:\\\\AGH\\\\VI semestr\\\\ML\\\\datasetGoogle\\\\OIDv4_ToolKit\\\\OID\\\\Dataset\\\\test\\\\Glasses\\\\5a036b6da39b193f.jpg'], 'hair dryer': ['D:\\\\AGH\\\\VI semestr\\\\ML\\\\datasetGoogle\\\\OIDv4_ToolKit\\\\OID\\\\Dataset\\\\test\\\\Hair dryer\\\\ee5645924ce778e1.jpg'], 'handbag': ['D:\\\\AGH\\\\VI semestr\\\\ML\\\\datasetGoogle\\\\OIDv4_ToolKit\\\\OID\\\\Dataset\\\\test\\\\Handbag\\\\d0bdd50d65fad8ad.jpg'], 'hat': ['D:\\\\AGH\\\\VI semestr\\\\ML\\\\datasetGoogle\\\\OIDv4_ToolKit\\\\OID\\\\Dataset\\\\test\\\\Hat\\\\7aa9f132eba66f51.jpg'], 'horse': ['D:\\\\AGH\\\\VI semestr\\\\ML\\\\datasetGoogle\\\\OIDv4_ToolKit\\\\OID\\\\Dataset\\\\test\\\\Horse\\\\18d962c7db9f1953.jpg'], 'hot dog': ['D:\\\\AGH\\\\VI semestr\\\\ML\\\\datasetGoogle\\\\OIDv4_ToolKit\\\\OID\\\\Dataset\\\\test\\\\Hot dog\\\\dd74ec273a422a3e.jpg'], 'kitchen dining room table': ['D:\\\\AGH\\\\VI semestr\\\\ML\\\\datasetGoogle\\\\OIDv4_ToolKit\\\\OID\\\\Dataset\\\\test\\\\Kitchen dining room table\\\\4e473fdc461aac33.jpg', 'D:\\\\AGH\\\\VI semestr\\\\ML\\\\datasetGoogle\\\\OIDv4_ToolKit\\\\OID\\\\Dataset\\\\test\\\\Kitchen dining room table\\\\c40895618cc639bc.jpg'], 'kite': ['D:\\\\AGH\\\\VI semestr\\\\ML\\\\datasetGoogle\\\\OIDv4_ToolKit\\\\OID\\\\Dataset\\\\test\\\\Kite\\\\7bf7f4866be08427.jpg'], 'knife': ['D:\\\\AGH\\\\VI semestr\\\\ML\\\\datasetGoogle\\\\OIDv4_ToolKit\\\\OID\\\\Dataset\\\\test\\\\Knife\\\\16ad14a4aae6558c.jpg'], 'laptop': ['D:\\\\AGH\\\\VI semestr\\\\ML\\\\datasetGoogle\\\\OIDv4_ToolKit\\\\OID\\\\Dataset\\\\test\\\\Laptop\\\\31e0383b18a48a63.jpg'], 'microwave oven': ['D:\\\\AGH\\\\VI semestr\\\\ML\\\\datasetGoogle\\\\OIDv4_ToolKit\\\\OID\\\\Dataset\\\\test\\\\Microwave oven\\\\daa62fa745f83a8e.jpg'], 'mirror': ['D:\\\\AGH\\\\VI semestr\\\\ML\\\\datasetGoogle\\\\OIDv4_ToolKit\\\\OID\\\\Dataset\\\\test\\\\Mirror\\\\c5f980eac8b53c35.jpg'], 'motorcycle': ['D:\\\\AGH\\\\VI semestr\\\\ML\\\\datasetGoogle\\\\OIDv4_ToolKit\\\\OID\\\\Dataset\\\\test\\\\Motorcycle\\\\f1f6a77e8d9c835c.jpg'], 'orange': ['D:\\\\AGH\\\\VI semestr\\\\ML\\\\datasetGoogle\\\\OIDv4_ToolKit\\\\OID\\\\Dataset\\\\test\\\\Orange\\\\d6bebba85e221bd1.jpg', 'D:\\\\AGH\\\\VI semestr\\\\ML\\\\datasetGoogle\\\\OIDv4_ToolKit\\\\OID\\\\Dataset\\\\test\\\\Orange\\\\f2345a8c69d56f42.jpg', 'D:\\\\AGH\\\\VI semestr\\\\ML\\\\datasetGoogle\\\\OIDv4_ToolKit\\\\OID\\\\Dataset\\\\test\\\\Orange\\\\f868c27b6d8a11b8.jpg'], 'oven': ['D:\\\\AGH\\\\VI semestr\\\\ML\\\\datasetGoogle\\\\OIDv4_ToolKit\\\\OID\\\\Dataset\\\\test\\\\Oven\\\\111e1d57f790cc09.jpg'], 'parking meter': ['D:\\\\AGH\\\\VI semestr\\\\ML\\\\datasetGoogle\\\\OIDv4_ToolKit\\\\OID\\\\Dataset\\\\test\\\\Parking meter\\\\1f70bb54b5e1dff9.jpg'], 'person': ['D:\\\\AGH\\\\VI semestr\\\\ML\\\\datasetGoogle\\\\OIDv4_ToolKit\\\\OID\\\\Dataset\\\\test\\\\Person\\\\b4386830517b05d4.jpg'], 'pizza': ['D:\\\\AGH\\\\VI semestr\\\\ML\\\\datasetGoogle\\\\OIDv4_ToolKit\\\\OID\\\\Dataset\\\\test\\\\Pizza\\\\61c4f90e512ffa8f.jpg'], 'plant': ['D:\\\\AGH\\\\VI semestr\\\\ML\\\\datasetGoogle\\\\OIDv4_ToolKit\\\\OID\\\\Dataset\\\\test\\\\Plant\\\\d3853139dee36c12.jpg'], 'plate': ['D:\\\\AGH\\\\VI semestr\\\\ML\\\\datasetGoogle\\\\OIDv4_ToolKit\\\\OID\\\\Dataset\\\\test\\\\Plate\\\\63bba43a3b13bd48.jpg'], 'refrigerator': ['D:\\\\AGH\\\\VI semestr\\\\ML\\\\datasetGoogle\\\\OIDv4_ToolKit\\\\OID\\\\Dataset\\\\test\\\\Refrigerator\\\\5c59b76bcaef7d8a.jpg'], 'remote control': ['D:\\\\AGH\\\\VI semestr\\\\ML\\\\datasetGoogle\\\\OIDv4_ToolKit\\\\OID\\\\Dataset\\\\test\\\\Remote control\\\\25d7f33699b84d20.jpg'], 'sandwich': ['D:\\\\AGH\\\\VI semestr\\\\ML\\\\datasetGoogle\\\\OIDv4_ToolKit\\\\OID\\\\Dataset\\\\test\\\\Sandwich\\\\431220028bc1c111.jpg'], 'scissors': ['D:\\\\AGH\\\\VI semestr\\\\ML\\\\datasetGoogle\\\\OIDv4_ToolKit\\\\OID\\\\Dataset\\\\test\\\\Scissors\\\\7c18ea3e16b30726.jpg'], 'sheep': ['D:\\\\AGH\\\\VI semestr\\\\ML\\\\datasetGoogle\\\\OIDv4_ToolKit\\\\OID\\\\Dataset\\\\test\\\\Sheep\\\\8dbaff19e5f2db9a.jpg'], 'sink': ['D:\\\\AGH\\\\VI semestr\\\\ML\\\\datasetGoogle\\\\OIDv4_ToolKit\\\\OID\\\\Dataset\\\\test\\\\Sink\\\\052ad10084ada6a2.jpg'], 'skateboard': ['D:\\\\AGH\\\\VI semestr\\\\ML\\\\datasetGoogle\\\\OIDv4_ToolKit\\\\OID\\\\Dataset\\\\test\\\\Skateboard\\\\c2be83272ad4ccc9.jpg'], 'ski': ['D:\\\\AGH\\\\VI semestr\\\\ML\\\\datasetGoogle\\\\OIDv4_ToolKit\\\\OID\\\\Dataset\\\\test\\\\Ski\\\\3b7c393e36fd5dee.jpg'], 'snowboard': ['D:\\\\AGH\\\\VI semestr\\\\ML\\\\datasetGoogle\\\\OIDv4_ToolKit\\\\OID\\\\Dataset\\\\test\\\\Snowboard\\\\5842d87d75249fb1.jpg'], 'spoon': ['D:\\\\AGH\\\\VI semestr\\\\ML\\\\datasetGoogle\\\\OIDv4_ToolKit\\\\OID\\\\Dataset\\\\test\\\\Spoon\\\\463767fdd0cca9cb.jpg'], 'stop sign': ['D:\\\\AGH\\\\VI semestr\\\\ML\\\\datasetGoogle\\\\OIDv4_ToolKit\\\\OID\\\\Dataset\\\\test\\\\Stop sign\\\\47a0ccf41b7023e2.jpg'], 'suitcase': ['D:\\\\AGH\\\\VI semestr\\\\ML\\\\datasetGoogle\\\\OIDv4_ToolKit\\\\OID\\\\Dataset\\\\test\\\\Suitcase\\\\dea289fcdfdbc0f5.jpg'], 'surfboard': ['D:\\\\AGH\\\\VI semestr\\\\ML\\\\datasetGoogle\\\\OIDv4_ToolKit\\\\OID\\\\Dataset\\\\test\\\\Surfboard\\\\cd781d24c07218e6.jpg'], 'teddy bear': ['D:\\\\AGH\\\\VI semestr\\\\ML\\\\datasetGoogle\\\\OIDv4_ToolKit\\\\OID\\\\Dataset\\\\test\\\\Teddy bear\\\\74a814b01fff26b7.jpg'], 'telephone': ['D:\\\\AGH\\\\VI semestr\\\\ML\\\\datasetGoogle\\\\OIDv4_ToolKit\\\\OID\\\\Dataset\\\\test\\\\Telephone\\\\03519b7eda6580b9.jpg'], 'television': ['D:\\\\AGH\\\\VI semestr\\\\ML\\\\datasetGoogle\\\\OIDv4_ToolKit\\\\OID\\\\Dataset\\\\test\\\\Television\\\\1bcc4f38521cf717.jpg'], 'tennis racket': ['D:\\\\AGH\\\\VI semestr\\\\ML\\\\datasetGoogle\\\\OIDv4_ToolKit\\\\OID\\\\Dataset\\\\test\\\\Tennis racket\\\\f0fab3311d794cbd.jpg'], 'tie': ['D:\\\\AGH\\\\VI semestr\\\\ML\\\\datasetGoogle\\\\OIDv4_ToolKit\\\\OID\\\\Dataset\\\\test\\\\Tie\\\\1ea4a3fad9693ad1.jpg'], 'toaster': ['D:\\\\AGH\\\\VI semestr\\\\ML\\\\datasetGoogle\\\\OIDv4_ToolKit\\\\OID\\\\Dataset\\\\test\\\\Toaster\\\\1cf3197242e16924.jpg'], 'toilet': ['D:\\\\AGH\\\\VI semestr\\\\ML\\\\datasetGoogle\\\\OIDv4_ToolKit\\\\OID\\\\Dataset\\\\test\\\\Toilet\\\\63709b141ad956d9.jpg'], 'toothbrush': ['D:\\\\AGH\\\\VI semestr\\\\ML\\\\datasetGoogle\\\\OIDv4_ToolKit\\\\OID\\\\Dataset\\\\test\\\\Toothbrush\\\\4d4ff8d304f397c2.jpg'], 'traffic light': ['D:\\\\AGH\\\\VI semestr\\\\ML\\\\datasetGoogle\\\\OIDv4_ToolKit\\\\OID\\\\Dataset\\\\test\\\\Traffic light\\\\b657fb701244d7c6.jpg'], 'traffic sign': ['D:\\\\AGH\\\\VI semestr\\\\ML\\\\datasetGoogle\\\\OIDv4_ToolKit\\\\OID\\\\Dataset\\\\test\\\\Traffic sign\\\\60ff2c943623994e.jpg'], 'train': ['D:\\\\AGH\\\\VI semestr\\\\ML\\\\datasetGoogle\\\\OIDv4_ToolKit\\\\OID\\\\Dataset\\\\test\\\\Train\\\\bf35fa961545c8ef.jpg'], 'truck': ['D:\\\\AGH\\\\VI semestr\\\\ML\\\\datasetGoogle\\\\OIDv4_ToolKit\\\\OID\\\\Dataset\\\\test\\\\Truck\\\\ce2d9614d7e5480d.jpg'], 'umbrella': ['D:\\\\AGH\\\\VI semestr\\\\ML\\\\datasetGoogle\\\\OIDv4_ToolKit\\\\OID\\\\Dataset\\\\test\\\\Umbrella\\\\5dbf9176536600c0.jpg'], 'vase': ['D:\\\\AGH\\\\VI semestr\\\\ML\\\\datasetGoogle\\\\OIDv4_ToolKit\\\\OID\\\\Dataset\\\\test\\\\Vase\\\\ce52c1b86920672c.jpg'], 'volleyball': ['D:\\\\AGH\\\\VI semestr\\\\ML\\\\datasetGoogle\\\\OIDv4_ToolKit\\\\OID\\\\Dataset\\\\test\\\\Volleyball\\\\5e3a978ab9c582de.jpg'], 'window': ['D:\\\\AGH\\\\VI semestr\\\\ML\\\\datasetGoogle\\\\OIDv4_ToolKit\\\\OID\\\\Dataset\\\\test\\\\Window\\\\2b3146e7217400ab.jpg'], 'wine glass': ['D:\\\\AGH\\\\VI semestr\\\\ML\\\\datasetGoogle\\\\OIDv4_ToolKit\\\\OID\\\\Dataset\\\\test\\\\Wine glass\\\\a415586759dd63bf.jpg'], 'zebra': ['D:\\\\AGH\\\\VI semestr\\\\ML\\\\datasetGoogle\\\\OIDv4_ToolKit\\\\OID\\\\Dataset\\\\test\\\\Zebra\\\\8e989aae24d45230.jpg']}\n"
     ]
    }
   ],
   "source": [
    "def get_paths_to_photos_and_labels(dataset_path=\"D:\\\\AGH\\\\VI semestr\\\\ML\\\\datasetGoogle\\\\OIDv4_ToolKit\\\\OID\\\\Dataset\\\\test\"):\n",
    "\n",
    "    directory_contents = os.listdir(dataset_path)\n",
    "\n",
    "    class_path_dict = {}\n",
    "\n",
    "    for subdirectory in directory_contents:\n",
    "        images = os.listdir(dataset_path + \"\\\\\" + subdirectory)\n",
    "\n",
    "        for image in images:\n",
    "            if image.endswith(\".jpg\"):\n",
    "                full_image_path = dataset_path + \"\\\\\" + subdirectory + \"\\\\\" + image\n",
    "                if subdirectory.lower() in class_path_dict:\n",
    "                    class_path_dict[subdirectory.lower()].append(full_image_path)\n",
    "                else:\n",
    "                    class_path_dict[subdirectory.lower()] = [full_image_path]\n",
    "\n",
    "    return class_path_dict\n",
    "\n",
    "print(get_paths_to_photos_and_labels())"
   ],
   "metadata": {
    "collapsed": false,
    "pycharm": {
     "name": "#%%\n"
    }
   }
  },
  {
   "cell_type": "code",
   "execution_count": 26,
   "outputs": [],
   "source": [
    "\n",
    "def get_all_images_metadata_dict(path=\"D:\\\\AGH\\\\VI semestr\\\\ML\\\\datasetGoogle\\\\OIDv4_ToolKit\\\\OID\\\\csv_folder\\\\test-annotations-bbox.csv\"):\n",
    "    my_dict = {}\n",
    "\n",
    "    correct_class_id = class_id_to_coco_label_map.keys()\n",
    "\n",
    "    with open(path, mode='r') as infile:\n",
    "        reader = csv.reader(infile)\n",
    "        for row in reader:\n",
    "            if row[0] not in my_dict:\n",
    "                if row[2] in correct_class_id:\n",
    "                    my_dict[row[0]] = []\n",
    "                    my_dict[row[0]].append(row[1:])\n",
    "            else:\n",
    "                if row[2] in correct_class_id:\n",
    "                    my_dict[row[0]].append(row[1:])\n",
    "\n",
    "\n",
    "\n",
    "\n",
    "    return my_dict\n"
   ],
   "metadata": {
    "collapsed": false,
    "pycharm": {
     "name": "#%%\n"
    }
   }
  },
  {
   "cell_type": "code",
   "execution_count": 12,
   "outputs": [],
   "source": [
    "def get_class_id_to_open_image_label_map(path = \"D:\\\\AGH\\\\VI semestr\\\\ML\\\\datasetGoogle\\\\OIDv4_ToolKit\\\\OID\\\\csv_folder\\\\class-descriptions-boxable.csv\"):\n",
    "    f = open(path)\n",
    "    class_map = {}\n",
    "    for line in f:\n",
    "        data_line = line.rstrip().split(',')\n",
    "        class_map[data_line[0]] = data_line[1]\n",
    "    return class_map"
   ],
   "metadata": {
    "collapsed": false,
    "pycharm": {
     "name": "#%%\n"
    }
   }
  },
  {
   "cell_type": "code",
   "execution_count": 13,
   "outputs": [],
   "source": [
    "def convert_open_image_label_to_coco(class_map):\n",
    "\n",
    "    class_map = {value.lower():key for key, value in class_map.items()}\n",
    "\n",
    "    class_map[\"street sign\"] = class_map.pop(\"traffic sign\")\n",
    "    class_map[\"cow\"] = class_map.pop(\"bull\")\n",
    "    class_map[\"eye glasses\"] = class_map.pop(\"glasses\")\n",
    "    class_map[\"shoe\"] = class_map.pop(\"boot\")\n",
    "    class_map[\"hair drier\"] = class_map.pop(\"hair dryer\")\n",
    "    class_map[\"donut\"] = class_map.pop(\"doughnut\")\n",
    "    class_map[\"microwave\"] = class_map.pop(\"microwave oven\")\n",
    "    class_map[\"cell phone\"] = class_map.pop(\"telephone\")\n",
    "    class_map[\"keyboard\"] = class_map.pop(\"computer keyboard\")\n",
    "    class_map[\"remote\"] = class_map.pop(\"remote control\")\n",
    "    class_map[\"mouse\"] = class_map.pop(\"computer mouse\")\n",
    "    class_map[\"tv\"] = class_map.pop(\"television\")\n",
    "    class_map[\"dining table\"] = class_map.pop(\"kitchen dining room table\")\n",
    "    class_map[\"potted plant\"] = class_map.pop(\"plant\")\n",
    "    class_map[\"skis\"] = class_map.pop(\"ski\")\n",
    "    class_map[\"sports ball\"] = class_map.pop(\"ball\")\n",
    "    class_map[\"cup\"] = class_map.pop(\"coffee cup\")\n",
    "    class_map[\"frisbee\"] = class_map.pop(\"flying disc\")\n",
    "    # hairbrush\n",
    "\n",
    "    return {value:key for key, value in class_map.items()}"
   ],
   "metadata": {
    "collapsed": false,
    "pycharm": {
     "name": "#%%\n"
    }
   }
  },
  {
   "cell_type": "code",
   "execution_count": 30,
   "outputs": [],
   "source": [
    "def remove_non_coco_labels(class_id_to_coco_label_map):\n",
    "    # coco_list\n",
    "    class_id_to_only_coco_map = {}\n",
    "    for key,val in class_id_to_coco_label_map.items():\n",
    "        if val in coco_list:\n",
    "            class_id_to_only_coco_map[key] = val\n",
    "\n",
    "    return class_id_to_only_coco_map\n"
   ],
   "metadata": {
    "collapsed": false,
    "pycharm": {
     "name": "#%%\n"
    }
   }
  },
  {
   "cell_type": "code",
   "execution_count": 55,
   "outputs": [],
   "source": [
    "def get_image_labels_with_bbox(metadata):\n",
    "    labes_bboxes = []\n",
    "    for entry in metadata:\n",
    "        bbox = [float(i) for i in entry[3:7]]\n",
    "        labes_bboxes.append([class_id_to_coco_label_map[entry[1]],bbox])\n",
    "\n",
    "    return labes_bboxes"
   ],
   "metadata": {
    "collapsed": false,
    "pycharm": {
     "name": "#%%\n"
    }
   }
  },
  {
   "cell_type": "code",
   "execution_count": 15,
   "outputs": [],
   "source": [
    "def predict_single_image(path=\"D:\\\\AGH\\\\VI semestr\\\\ML\\\\datasetGoogle\\\\OIDv4_ToolKit\\\\OID\\\\Dataset\\\\test\\\\Baseball glove\\\\0298c70279b6e842.jpg\"):\n",
    "    image_name = os.path.basename(path).split(\".\")[0]\n",
    "    image = Image.open(path)\n",
    "    result = predict(image)\n",
    "    results = {key:value.numpy() for key,value in result.items()}\n",
    "    # detection_classes = results['detection_classes']\n",
    "    # print(results)\n",
    "    # print(\"model thinks: \" + coco[detection_classes[0][0]])\n",
    "    # print(\"model thinks: \" + coco[detection_classes[0][1]])\n",
    "    # print(\"model thinks: \" + coco[detection_classes[0][2]])\n",
    "    # print(\"model thinks: \" + coco[detection_classes[0][3]])\n",
    "    # print(\"accually: \")\n",
    "    # print(get_image_labels(image_name))\n",
    "    return results, image_name"
   ],
   "metadata": {
    "collapsed": false,
    "pycharm": {
     "name": "#%%\n"
    }
   }
  },
  {
   "cell_type": "code",
   "execution_count": 66,
   "outputs": [],
   "source": [
    "def compute_iou(groundtruth_box, detection_box):\n",
    "    g_xmin, g_xmax, g_ymin, g_ymax = groundtruth_box\n",
    "    d_ymin, d_xmin, d_ymax, d_xmax = detection_box\n",
    "\n",
    "    xa = max(g_xmin, d_xmin)\n",
    "    ya = max(g_ymin, d_ymin)\n",
    "    xb = min(g_xmax, d_xmax)\n",
    "    yb = min(g_ymax, d_ymax)\n",
    "\n",
    "    intersection = max(0, xb - xa + 1) * max(0, yb - ya + 1)\n",
    "\n",
    "    boxAArea = (g_xmax - g_xmin + 1) * (g_ymax - g_ymin + 1)\n",
    "    boxBArea = (d_xmax - d_xmin + 1) * (d_ymax - d_ymin + 1)\n",
    "\n",
    "    return intersection / float(boxAArea + boxBArea - intersection)"
   ],
   "metadata": {
    "collapsed": false,
    "pycharm": {
     "name": "#%%\n"
    }
   }
  },
  {
   "cell_type": "code",
   "execution_count": null,
   "outputs": [],
   "source": [],
   "metadata": {
    "collapsed": false,
    "pycharm": {
     "name": "#%%\n"
    }
   }
  },
  {
   "cell_type": "code",
   "execution_count": null,
   "outputs": [],
   "source": [
    "def perform_analysis(model_result, image_name):\n",
    "\n",
    "\n",
    "    image_metadata_list = all_images_metadata_dict[image_name]\n",
    "    labels_bboxes_original = get_image_labels_with_bbox(image_metadata_list)\n",
    "\n",
    "\n",
    "    detected_classes = model_result['detection_classes'][0]\n",
    "    detected_classes_accuracy = model_result['detection_scores'][0]\n",
    "    detected_classes_bboxes = model_result['detection_boxes'][0]\n",
    "\n",
    "    labels_bboxes_detected = []\n",
    "    for d_class, score, bbox in zip(detected_classes,detected_classes_accuracy, detected_classes_bboxes):\n",
    "        if score >= 0.5:\n",
    "            labels_bboxes_detected.append([coco[d_class], list(bbox)])\n",
    "\n",
    "    print(labels_bboxes_original)\n",
    "    print(labels_bboxes_detected)\n",
    "    matches = {}\n",
    "    for bbox_oryginal in labels_bboxes_original:\n",
    "        tmp = []\n",
    "        best_detected_bbox = None\n",
    "        for bbox_detected in labels_bboxes_detected:\n",
    "            iou = compute_iou(bbox_oryginal[1], bbox_detected[1])\n",
    "            if iou >= 0.5:\n",
    "                tmp.append([iou,bbox_detected])\n",
    "        if len(tmp) > 0:\n",
    "            tmp.sort(key = lambda x: x[0])\n",
    "            best_detected_bbox = tmp[-1][1]\n",
    "\n",
    "        print(best_detected_bbox)\n",
    "        print(bbox_oryginal)\n",
    "\n",
    "        # matches[bbox_oryginal] = tmp[-1]\n",
    "\n",
    "\n",
    "    # print(detected_classes)\n",
    "    # print(detected_classes_probability)\n",
    "    # readable_detected_classes = coco[]\n",
    "\n",
    "\n",
    "\n",
    "\n"
   ],
   "metadata": {
    "collapsed": false,
    "pycharm": {
     "name": "#%%\n"
    }
   }
  },
  {
   "cell_type": "code",
   "execution_count": 56,
   "outputs": [],
   "source": [
    "# obtain all needed dicts\n",
    "\n",
    "class_id_to_open_image_label_map = get_class_id_to_open_image_label_map()\n",
    "class_id_to_coco_label_map =  convert_open_image_label_to_coco(class_id_to_open_image_label_map)\n",
    "class_id_to_coco_label_map = remove_non_coco_labels(class_id_to_coco_label_map)\n",
    "\n",
    "all_images_metadata_dict = get_all_images_metadata_dict()"
   ],
   "metadata": {
    "collapsed": false,
    "pycharm": {
     "name": "#%%\n"
    }
   }
  },
  {
   "cell_type": "code",
   "execution_count": 23,
   "outputs": [],
   "source": [
    "coco = get_coco_labels()\n",
    "coco_list  = list(coco.values())\n",
    "\n",
    "# get_downloadable_labels_str(coco)\n",
    "# copy returned string\n",
    "# open in terminal\n",
    "# python main.py downloader --classes <paste_here_your_string> --type_csv <validation/test/train> --limit XX"
   ],
   "metadata": {
    "collapsed": false,
    "pycharm": {
     "name": "#%%\n"
    }
   }
  },
  {
   "cell_type": "code",
   "execution_count": 65,
   "outputs": [
    {
     "name": "stdout",
     "output_type": "stream",
     "text": [
      "[['person', [0.0, 1.0, 0.0, 0.144334]], ['baseball bat', [0.48181, 0.55446, 0.473292, 0.510084]], ['baseball glove', [0.444979, 0.509261, 0.486219, 0.579589]]]\n",
      "[['person', [0.29661426, 0.22632076, 0.7786821, 0.5014849]], ['person', [0.32117447, 0.44827425, 0.75715, 0.62050307]], ['person', [0.3179868, 0.633381, 0.7627628, 0.82747054]], ['baseball glove', [0.48137105, 0.44447112, 0.565764, 0.5002186]]]\n",
      "None\n",
      "['person', [0.0, 1.0, 0.0, 0.144334]]\n",
      "['baseball glove', [0.48137105, 0.44447112, 0.565764, 0.5002186]]\n",
      "['baseball bat', [0.48181, 0.55446, 0.473292, 0.510084]]\n",
      "['baseball glove', [0.48137105, 0.44447112, 0.565764, 0.5002186]]\n",
      "['baseball glove', [0.444979, 0.509261, 0.486219, 0.579589]]\n"
     ]
    }
   ],
   "source": [
    "results, image_name = predict_single_image()\n",
    "s = perform_analysis(results, image_name)"
   ],
   "metadata": {
    "collapsed": false,
    "pycharm": {
     "name": "#%%\n"
    }
   }
  }
 ],
 "metadata": {
  "kernelspec": {
   "display_name": "Python 3",
   "language": "python",
   "name": "python3"
  },
  "language_info": {
   "codemirror_mode": {
    "name": "ipython",
    "version": 2
   },
   "file_extension": ".py",
   "mimetype": "text/x-python",
   "name": "python",
   "nbconvert_exporter": "python",
   "pygments_lexer": "ipython2",
   "version": "2.7.6"
  }
 },
 "nbformat": 4,
 "nbformat_minor": 0
}