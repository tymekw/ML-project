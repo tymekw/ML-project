{
 "cells": [
  {
   "cell_type": "code",
   "execution_count": 21,
   "metadata": {
    "collapsed": true
   },
   "outputs": [],
   "source": [
    "import tensorflow_hub as hub\n",
    "from tensorflow.keras.preprocessing import image\n",
    "import urllib3  # the lib that handles the url stuff\n",
    "from PIL import Image\n",
    "import numpy as np\n",
    "import os\n",
    "import csv"
   ]
  },
  {
   "cell_type": "code",
   "execution_count": 22,
   "outputs": [],
   "source": [
    "detector = hub.load(\"https://tfhub.dev/tensorflow/centernet/resnet50v1_fpn_512x512/1\")"
   ],
   "metadata": {
    "collapsed": false,
    "pycharm": {
     "name": "#%%\n"
    }
   }
  },
  {
   "cell_type": "code",
   "execution_count": 23,
   "outputs": [],
   "source": [
    "def predict(my_image):\n",
    "    # commented for open_image_from_google\n",
    "    # my_image = image.smart_resize(my_image, size=(1024, 1024))\n",
    "    x = image.img_to_array(my_image)\n",
    "    x = np.expand_dims(x, axis=0)\n",
    "    preds = detector(x)\n",
    "    return preds"
   ],
   "metadata": {
    "collapsed": false,
    "pycharm": {
     "name": "#%%\n"
    }
   }
  },
  {
   "cell_type": "code",
   "execution_count": 24,
   "outputs": [],
   "source": [
    "def open_image_from_google(coco):\n",
    "\n",
    "    impath = \"D:\\\\AGH\\\\VI semestr\\\\ML\\\\datasetGoogle\\\\OIDv4_ToolKit\\\\OID\\\\Dataset\\\\test\\\\Apple\\\\964b69442edeec04.jpg\"\n",
    "\n",
    "    apple = Image.open(impath)\n",
    "    result, x = predict(apple)\n",
    "    results = {key:value.numpy() for key,value in result.items()}\n",
    "    detection_classes = results['detection_classes']\n",
    "    print(\"model thinks: \" + coco[detection_classes[0][0]])"
   ],
   "metadata": {
    "collapsed": false,
    "pycharm": {
     "name": "#%%\n"
    }
   }
  },
  {
   "cell_type": "code",
   "execution_count": 25,
   "outputs": [],
   "source": [
    "def get_coco_labels():\n",
    "    http = urllib3.PoolManager()\n",
    "    r = http.request('GET', 'https://raw.githubusercontent.com/amikelive/coco-labels/master/coco-labels-paper.txt')\n",
    "    dane = r.data.decode('UTF-8')\n",
    "    my_data = dane.split('\\n')\n",
    "\n",
    "    coco = {i+1: my_data[i] for i in range(0,len(my_data))}\n",
    "    return coco\n"
   ],
   "metadata": {
    "collapsed": false,
    "pycharm": {
     "name": "#%%\n"
    }
   }
  },
  {
   "cell_type": "code",
   "execution_count": 26,
   "outputs": [
    {
     "name": "stdout",
     "output_type": "stream",
     "text": [
      "Person Bicycle Car Motorcycle Airplane Bus Train Truck Boat Traffic_light Fire_hydrant Stop_sign Parking_meter Bench Bird Cat Dog Horse Sheep Elephant Bear Zebra Giraffe Hat Backpack Umbrella Handbag Tie Suitcase Snowboard Kite Baseball_bat Baseball_glove Skateboard Surfboard Tennis_racket Bottle Plate Wine_glass Fork Knife Spoon Bowl Banana Apple Sandwich Orange Broccoli Carrot Hot_dog Pizza Cake Chair Couch Bed Mirror Window Desk Toilet Door Laptop Oven Toaster Sink Refrigerator Blender Book Clock Vase Scissors Teddy_bear Toothbrush Traffic_sign Bull Glasses Boot Hair_dryer Doughnut Microwave_oven Telephone Computer_keyboard Remote_control Computer_mouse Television Kitchen_dining_room_table Plant Ski Volleyball Coffee_cup Flying_disc\n"
     ]
    },
    {
     "data": {
      "text/plain": "'Person Bicycle Car Motorcycle Airplane Bus Train Truck Boat Traffic_light Fire_hydrant Stop_sign Parking_meter Bench Bird Cat Dog Horse Sheep Elephant Bear Zebra Giraffe Hat Backpack Umbrella Handbag Tie Suitcase Snowboard Kite Baseball_bat Baseball_glove Skateboard Surfboard Tennis_racket Bottle Plate Wine_glass Fork Knife Spoon Bowl Banana Apple Sandwich Orange Broccoli Carrot Hot_dog Pizza Cake Chair Couch Bed Mirror Window Desk Toilet Door Laptop Oven Toaster Sink Refrigerator Blender Book Clock Vase Scissors Teddy_bear Toothbrush Traffic_sign Bull Glasses Boot Hair_dryer Doughnut Microwave_oven Telephone Computer_keyboard Remote_control Computer_mouse Television Kitchen_dining_room_table Plant Ski Volleyball Coffee_cup Flying_disc'"
     },
     "execution_count": 26,
     "metadata": {},
     "output_type": "execute_result"
    }
   ],
   "source": [
    "def get_downloadable_labels_str(coco):\n",
    "    d = {value:1 for value in coco.values()}\n",
    "    # tmp = d[\"street sign\"]\n",
    "\n",
    "    # nowa googlowa          stara coco\n",
    "    d[\"traffic sign\"] = d.pop(\"street sign\")\n",
    "    d[\"bull\"] = d.pop(\"cow\")\n",
    "    d[\"glasses\"] = d.pop(\"eye glasses\")\n",
    "    d[\"boot\"] = d.pop(\"shoe\")\n",
    "    d[\"hair dryer\"] = d.pop(\"hair drier\")\n",
    "    d[\"doughnut\"] = d.pop(\"donut\")\n",
    "    d[\"microwave oven\"] = d.pop(\"microwave\")\n",
    "    d[\"telephone\"] = d.pop(\"cell phone\")\n",
    "    d[\"computer keyboard\"] = d.pop(\"keyboard\")\n",
    "    d[\"remote control\"] = d.pop(\"remote\")\n",
    "    d[\"computer mouse\"] = d.pop(\"mouse\")\n",
    "    d[\"television\"] = d.pop(\"tv\")\n",
    "    d[\"Kitchen dining room table\"] = d.pop(\"dining table\")\n",
    "    d[\"plant\"] = d.pop(\"potted plant\")\n",
    "    d[\"ski\"] = d.pop(\"skis\")\n",
    "    d[\"volleyball\"] = d.pop(\"sports ball\")\n",
    "    d[\"coffee cup\"] = d.pop(\"cup\")\n",
    "    d[\"flying disc\"] = d.pop(\"frisbee\")\n",
    "    # hairbrush\n",
    "    d.pop(\"hair brush\")\n",
    "\n",
    "    labels = list(d.keys())\n",
    "    lb = [x.capitalize() for x in labels]\n",
    "    lb1 = [label.replace(\" \",\"_\") for label in lb]\n",
    "    str1 = \" \"\n",
    "    names = str1.join(lb1)\n",
    "    print(names)\n",
    "    return names\n",
    "\n",
    "\n"
   ],
   "metadata": {
    "collapsed": false,
    "pycharm": {
     "name": "#%% enables to download photos\n"
    }
   }
  },
  {
   "cell_type": "code",
   "execution_count": 27,
   "outputs": [
    {
     "name": "stdout",
     "output_type": "stream",
     "text": [
      "{'airplane': ['D:\\\\AGH\\\\VI semestr\\\\ML\\\\datasetGoogle\\\\OIDv4_ToolKit\\\\OID\\\\Dataset\\\\test\\\\Airplane\\\\2e89b6830d277669.jpg'], 'apple': ['D:\\\\AGH\\\\VI semestr\\\\ML\\\\datasetGoogle\\\\OIDv4_ToolKit\\\\OID\\\\Dataset\\\\test\\\\Apple\\\\44749496c016708d.jpg', 'D:\\\\AGH\\\\VI semestr\\\\ML\\\\datasetGoogle\\\\OIDv4_ToolKit\\\\OID\\\\Dataset\\\\test\\\\Apple\\\\964b69442edeec04.jpg', 'D:\\\\AGH\\\\VI semestr\\\\ML\\\\datasetGoogle\\\\OIDv4_ToolKit\\\\OID\\\\Dataset\\\\test\\\\Apple\\\\ba813e858a702b5a.jpg'], 'backpack': ['D:\\\\AGH\\\\VI semestr\\\\ML\\\\datasetGoogle\\\\OIDv4_ToolKit\\\\OID\\\\Dataset\\\\test\\\\Backpack\\\\723e70fe85e0da69.jpg'], 'banana': ['D:\\\\AGH\\\\VI semestr\\\\ML\\\\datasetGoogle\\\\OIDv4_ToolKit\\\\OID\\\\Dataset\\\\test\\\\Banana\\\\eeb93d366d6c69e7.jpg'], 'baseball bat': ['D:\\\\AGH\\\\VI semestr\\\\ML\\\\datasetGoogle\\\\OIDv4_ToolKit\\\\OID\\\\Dataset\\\\test\\\\Baseball bat\\\\9a6747129ee9d39d.jpg'], 'baseball glove': ['D:\\\\AGH\\\\VI semestr\\\\ML\\\\datasetGoogle\\\\OIDv4_ToolKit\\\\OID\\\\Dataset\\\\test\\\\Baseball glove\\\\0298c70279b6e842.jpg', 'D:\\\\AGH\\\\VI semestr\\\\ML\\\\datasetGoogle\\\\OIDv4_ToolKit\\\\OID\\\\Dataset\\\\test\\\\Baseball glove\\\\874414cc77f9c4a5.jpg', 'D:\\\\AGH\\\\VI semestr\\\\ML\\\\datasetGoogle\\\\OIDv4_ToolKit\\\\OID\\\\Dataset\\\\test\\\\Baseball glove\\\\a2c1d4542901af59.jpg'], 'bear': ['D:\\\\AGH\\\\VI semestr\\\\ML\\\\datasetGoogle\\\\OIDv4_ToolKit\\\\OID\\\\Dataset\\\\test\\\\Bear\\\\6c413bd13881e4ea.jpg'], 'bed': ['D:\\\\AGH\\\\VI semestr\\\\ML\\\\datasetGoogle\\\\OIDv4_ToolKit\\\\OID\\\\Dataset\\\\test\\\\Bed\\\\c00205af50959af3.jpg'], 'bicycle': ['D:\\\\AGH\\\\VI semestr\\\\ML\\\\datasetGoogle\\\\OIDv4_ToolKit\\\\OID\\\\Dataset\\\\test\\\\Bicycle\\\\626978826a473e2d.jpg'], 'bird': ['D:\\\\AGH\\\\VI semestr\\\\ML\\\\datasetGoogle\\\\OIDv4_ToolKit\\\\OID\\\\Dataset\\\\test\\\\Bird\\\\8d821e6cb06ecb75.jpg'], 'blender': ['D:\\\\AGH\\\\VI semestr\\\\ML\\\\datasetGoogle\\\\OIDv4_ToolKit\\\\OID\\\\Dataset\\\\test\\\\Blender\\\\13af85d451edaf21.jpg'], 'boat': ['D:\\\\AGH\\\\VI semestr\\\\ML\\\\datasetGoogle\\\\OIDv4_ToolKit\\\\OID\\\\Dataset\\\\test\\\\Boat\\\\9d011170c1a57ddd.jpg'], 'book': ['D:\\\\AGH\\\\VI semestr\\\\ML\\\\datasetGoogle\\\\OIDv4_ToolKit\\\\OID\\\\Dataset\\\\test\\\\Book\\\\723e70fe85e0da69.jpg'], 'boot': ['D:\\\\AGH\\\\VI semestr\\\\ML\\\\datasetGoogle\\\\OIDv4_ToolKit\\\\OID\\\\Dataset\\\\test\\\\Boot\\\\072c0b43000fbc13.jpg'], 'bottle': ['D:\\\\AGH\\\\VI semestr\\\\ML\\\\datasetGoogle\\\\OIDv4_ToolKit\\\\OID\\\\Dataset\\\\test\\\\Bottle\\\\98cf1c79d74b02ac.jpg'], 'bowl': ['D:\\\\AGH\\\\VI semestr\\\\ML\\\\datasetGoogle\\\\OIDv4_ToolKit\\\\OID\\\\Dataset\\\\test\\\\Bowl\\\\fa328611b9472ef2.jpg'], 'broccoli': ['D:\\\\AGH\\\\VI semestr\\\\ML\\\\datasetGoogle\\\\OIDv4_ToolKit\\\\OID\\\\Dataset\\\\test\\\\Broccoli\\\\c9499b29b88d1001.jpg'], 'bull': ['D:\\\\AGH\\\\VI semestr\\\\ML\\\\datasetGoogle\\\\OIDv4_ToolKit\\\\OID\\\\Dataset\\\\test\\\\Bull\\\\a0c7f08ce895ff52.jpg'], 'bus': ['D:\\\\AGH\\\\VI semestr\\\\ML\\\\datasetGoogle\\\\OIDv4_ToolKit\\\\OID\\\\Dataset\\\\test\\\\Bus\\\\7d9a377ad4b909c8.jpg'], 'cake': ['D:\\\\AGH\\\\VI semestr\\\\ML\\\\datasetGoogle\\\\OIDv4_ToolKit\\\\OID\\\\Dataset\\\\test\\\\Cake\\\\4141962f6bb40bee.jpg'], 'car': ['D:\\\\AGH\\\\VI semestr\\\\ML\\\\datasetGoogle\\\\OIDv4_ToolKit\\\\OID\\\\Dataset\\\\test\\\\Car\\\\79b23383a15bc835.jpg'], 'carrot': ['D:\\\\AGH\\\\VI semestr\\\\ML\\\\datasetGoogle\\\\OIDv4_ToolKit\\\\OID\\\\Dataset\\\\test\\\\Carrot\\\\46116ae03b5479fe.jpg'], 'cat': ['D:\\\\AGH\\\\VI semestr\\\\ML\\\\datasetGoogle\\\\OIDv4_ToolKit\\\\OID\\\\Dataset\\\\test\\\\Cat\\\\e653e2eac3883154.jpg'], 'chair': ['D:\\\\AGH\\\\VI semestr\\\\ML\\\\datasetGoogle\\\\OIDv4_ToolKit\\\\OID\\\\Dataset\\\\test\\\\Chair\\\\1bcc4f38521cf717.jpg'], 'clock': ['D:\\\\AGH\\\\VI semestr\\\\ML\\\\datasetGoogle\\\\OIDv4_ToolKit\\\\OID\\\\Dataset\\\\test\\\\Clock\\\\8be7a7941430fa17.jpg'], 'coffee cup': ['D:\\\\AGH\\\\VI semestr\\\\ML\\\\datasetGoogle\\\\OIDv4_ToolKit\\\\OID\\\\Dataset\\\\test\\\\Coffee cup\\\\999415862220b779.jpg'], 'computer keyboard': ['D:\\\\AGH\\\\VI semestr\\\\ML\\\\datasetGoogle\\\\OIDv4_ToolKit\\\\OID\\\\Dataset\\\\test\\\\Computer keyboard\\\\78f4402b5b0277bb.jpg'], 'computer mouse': ['D:\\\\AGH\\\\VI semestr\\\\ML\\\\datasetGoogle\\\\OIDv4_ToolKit\\\\OID\\\\Dataset\\\\test\\\\Computer mouse\\\\8ce355f47f0d1c45.jpg', 'D:\\\\AGH\\\\VI semestr\\\\ML\\\\datasetGoogle\\\\OIDv4_ToolKit\\\\OID\\\\Dataset\\\\test\\\\Computer mouse\\\\914617aee0e735d4.jpg'], 'couch': ['D:\\\\AGH\\\\VI semestr\\\\ML\\\\datasetGoogle\\\\OIDv4_ToolKit\\\\OID\\\\Dataset\\\\test\\\\Couch\\\\529f91432a0d4a6f.jpg'], 'desk': ['D:\\\\AGH\\\\VI semestr\\\\ML\\\\datasetGoogle\\\\OIDv4_ToolKit\\\\OID\\\\Dataset\\\\test\\\\Desk\\\\1fe42568c60af74e.jpg'], 'dog': ['D:\\\\AGH\\\\VI semestr\\\\ML\\\\datasetGoogle\\\\OIDv4_ToolKit\\\\OID\\\\Dataset\\\\test\\\\Dog\\\\ca410a99ebddf843.jpg'], 'door': ['D:\\\\AGH\\\\VI semestr\\\\ML\\\\datasetGoogle\\\\OIDv4_ToolKit\\\\OID\\\\Dataset\\\\test\\\\Door\\\\251e861dbf438e9c.jpg'], 'doughnut': ['D:\\\\AGH\\\\VI semestr\\\\ML\\\\datasetGoogle\\\\OIDv4_ToolKit\\\\OID\\\\Dataset\\\\test\\\\Doughnut\\\\5a6f636091572af6.jpg'], 'elephant': ['D:\\\\AGH\\\\VI semestr\\\\ML\\\\datasetGoogle\\\\OIDv4_ToolKit\\\\OID\\\\Dataset\\\\test\\\\Elephant\\\\b1708bd114f0e80c.jpg'], 'fire hydrant': ['D:\\\\AGH\\\\VI semestr\\\\ML\\\\datasetGoogle\\\\OIDv4_ToolKit\\\\OID\\\\Dataset\\\\test\\\\Fire hydrant\\\\a4b878b4912c9967.jpg'], 'flying disc': ['D:\\\\AGH\\\\VI semestr\\\\ML\\\\datasetGoogle\\\\OIDv4_ToolKit\\\\OID\\\\Dataset\\\\test\\\\Flying disc\\\\d55bbf3cedb6f69d.jpg'], 'fork': ['D:\\\\AGH\\\\VI semestr\\\\ML\\\\datasetGoogle\\\\OIDv4_ToolKit\\\\OID\\\\Dataset\\\\test\\\\Fork\\\\c9499b29b88d1001.jpg'], 'giraffe': ['D:\\\\AGH\\\\VI semestr\\\\ML\\\\datasetGoogle\\\\OIDv4_ToolKit\\\\OID\\\\Dataset\\\\test\\\\Giraffe\\\\3f077219208c6584.jpg'], 'glasses': ['D:\\\\AGH\\\\VI semestr\\\\ML\\\\datasetGoogle\\\\OIDv4_ToolKit\\\\OID\\\\Dataset\\\\test\\\\Glasses\\\\5a036b6da39b193f.jpg'], 'hair dryer': ['D:\\\\AGH\\\\VI semestr\\\\ML\\\\datasetGoogle\\\\OIDv4_ToolKit\\\\OID\\\\Dataset\\\\test\\\\Hair dryer\\\\ee5645924ce778e1.jpg'], 'handbag': ['D:\\\\AGH\\\\VI semestr\\\\ML\\\\datasetGoogle\\\\OIDv4_ToolKit\\\\OID\\\\Dataset\\\\test\\\\Handbag\\\\d0bdd50d65fad8ad.jpg'], 'hat': ['D:\\\\AGH\\\\VI semestr\\\\ML\\\\datasetGoogle\\\\OIDv4_ToolKit\\\\OID\\\\Dataset\\\\test\\\\Hat\\\\7aa9f132eba66f51.jpg'], 'horse': ['D:\\\\AGH\\\\VI semestr\\\\ML\\\\datasetGoogle\\\\OIDv4_ToolKit\\\\OID\\\\Dataset\\\\test\\\\Horse\\\\18d962c7db9f1953.jpg'], 'hot dog': ['D:\\\\AGH\\\\VI semestr\\\\ML\\\\datasetGoogle\\\\OIDv4_ToolKit\\\\OID\\\\Dataset\\\\test\\\\Hot dog\\\\dd74ec273a422a3e.jpg'], 'kitchen dining room table': ['D:\\\\AGH\\\\VI semestr\\\\ML\\\\datasetGoogle\\\\OIDv4_ToolKit\\\\OID\\\\Dataset\\\\test\\\\Kitchen dining room table\\\\4e473fdc461aac33.jpg', 'D:\\\\AGH\\\\VI semestr\\\\ML\\\\datasetGoogle\\\\OIDv4_ToolKit\\\\OID\\\\Dataset\\\\test\\\\Kitchen dining room table\\\\c40895618cc639bc.jpg'], 'kite': ['D:\\\\AGH\\\\VI semestr\\\\ML\\\\datasetGoogle\\\\OIDv4_ToolKit\\\\OID\\\\Dataset\\\\test\\\\Kite\\\\7bf7f4866be08427.jpg'], 'knife': ['D:\\\\AGH\\\\VI semestr\\\\ML\\\\datasetGoogle\\\\OIDv4_ToolKit\\\\OID\\\\Dataset\\\\test\\\\Knife\\\\16ad14a4aae6558c.jpg'], 'laptop': ['D:\\\\AGH\\\\VI semestr\\\\ML\\\\datasetGoogle\\\\OIDv4_ToolKit\\\\OID\\\\Dataset\\\\test\\\\Laptop\\\\31e0383b18a48a63.jpg'], 'microwave oven': ['D:\\\\AGH\\\\VI semestr\\\\ML\\\\datasetGoogle\\\\OIDv4_ToolKit\\\\OID\\\\Dataset\\\\test\\\\Microwave oven\\\\daa62fa745f83a8e.jpg'], 'mirror': ['D:\\\\AGH\\\\VI semestr\\\\ML\\\\datasetGoogle\\\\OIDv4_ToolKit\\\\OID\\\\Dataset\\\\test\\\\Mirror\\\\c5f980eac8b53c35.jpg'], 'motorcycle': ['D:\\\\AGH\\\\VI semestr\\\\ML\\\\datasetGoogle\\\\OIDv4_ToolKit\\\\OID\\\\Dataset\\\\test\\\\Motorcycle\\\\f1f6a77e8d9c835c.jpg'], 'orange': ['D:\\\\AGH\\\\VI semestr\\\\ML\\\\datasetGoogle\\\\OIDv4_ToolKit\\\\OID\\\\Dataset\\\\test\\\\Orange\\\\d6bebba85e221bd1.jpg', 'D:\\\\AGH\\\\VI semestr\\\\ML\\\\datasetGoogle\\\\OIDv4_ToolKit\\\\OID\\\\Dataset\\\\test\\\\Orange\\\\f2345a8c69d56f42.jpg', 'D:\\\\AGH\\\\VI semestr\\\\ML\\\\datasetGoogle\\\\OIDv4_ToolKit\\\\OID\\\\Dataset\\\\test\\\\Orange\\\\f868c27b6d8a11b8.jpg'], 'oven': ['D:\\\\AGH\\\\VI semestr\\\\ML\\\\datasetGoogle\\\\OIDv4_ToolKit\\\\OID\\\\Dataset\\\\test\\\\Oven\\\\111e1d57f790cc09.jpg'], 'parking meter': ['D:\\\\AGH\\\\VI semestr\\\\ML\\\\datasetGoogle\\\\OIDv4_ToolKit\\\\OID\\\\Dataset\\\\test\\\\Parking meter\\\\1f70bb54b5e1dff9.jpg'], 'person': ['D:\\\\AGH\\\\VI semestr\\\\ML\\\\datasetGoogle\\\\OIDv4_ToolKit\\\\OID\\\\Dataset\\\\test\\\\Person\\\\b4386830517b05d4.jpg'], 'pizza': ['D:\\\\AGH\\\\VI semestr\\\\ML\\\\datasetGoogle\\\\OIDv4_ToolKit\\\\OID\\\\Dataset\\\\test\\\\Pizza\\\\61c4f90e512ffa8f.jpg'], 'plant': ['D:\\\\AGH\\\\VI semestr\\\\ML\\\\datasetGoogle\\\\OIDv4_ToolKit\\\\OID\\\\Dataset\\\\test\\\\Plant\\\\d3853139dee36c12.jpg'], 'plate': ['D:\\\\AGH\\\\VI semestr\\\\ML\\\\datasetGoogle\\\\OIDv4_ToolKit\\\\OID\\\\Dataset\\\\test\\\\Plate\\\\63bba43a3b13bd48.jpg'], 'refrigerator': ['D:\\\\AGH\\\\VI semestr\\\\ML\\\\datasetGoogle\\\\OIDv4_ToolKit\\\\OID\\\\Dataset\\\\test\\\\Refrigerator\\\\5c59b76bcaef7d8a.jpg'], 'remote control': ['D:\\\\AGH\\\\VI semestr\\\\ML\\\\datasetGoogle\\\\OIDv4_ToolKit\\\\OID\\\\Dataset\\\\test\\\\Remote control\\\\25d7f33699b84d20.jpg'], 'sandwich': ['D:\\\\AGH\\\\VI semestr\\\\ML\\\\datasetGoogle\\\\OIDv4_ToolKit\\\\OID\\\\Dataset\\\\test\\\\Sandwich\\\\431220028bc1c111.jpg'], 'scissors': ['D:\\\\AGH\\\\VI semestr\\\\ML\\\\datasetGoogle\\\\OIDv4_ToolKit\\\\OID\\\\Dataset\\\\test\\\\Scissors\\\\7c18ea3e16b30726.jpg'], 'sheep': ['D:\\\\AGH\\\\VI semestr\\\\ML\\\\datasetGoogle\\\\OIDv4_ToolKit\\\\OID\\\\Dataset\\\\test\\\\Sheep\\\\8dbaff19e5f2db9a.jpg'], 'sink': ['D:\\\\AGH\\\\VI semestr\\\\ML\\\\datasetGoogle\\\\OIDv4_ToolKit\\\\OID\\\\Dataset\\\\test\\\\Sink\\\\052ad10084ada6a2.jpg'], 'skateboard': ['D:\\\\AGH\\\\VI semestr\\\\ML\\\\datasetGoogle\\\\OIDv4_ToolKit\\\\OID\\\\Dataset\\\\test\\\\Skateboard\\\\c2be83272ad4ccc9.jpg'], 'ski': ['D:\\\\AGH\\\\VI semestr\\\\ML\\\\datasetGoogle\\\\OIDv4_ToolKit\\\\OID\\\\Dataset\\\\test\\\\Ski\\\\3b7c393e36fd5dee.jpg'], 'snowboard': ['D:\\\\AGH\\\\VI semestr\\\\ML\\\\datasetGoogle\\\\OIDv4_ToolKit\\\\OID\\\\Dataset\\\\test\\\\Snowboard\\\\5842d87d75249fb1.jpg'], 'spoon': ['D:\\\\AGH\\\\VI semestr\\\\ML\\\\datasetGoogle\\\\OIDv4_ToolKit\\\\OID\\\\Dataset\\\\test\\\\Spoon\\\\463767fdd0cca9cb.jpg'], 'stop sign': ['D:\\\\AGH\\\\VI semestr\\\\ML\\\\datasetGoogle\\\\OIDv4_ToolKit\\\\OID\\\\Dataset\\\\test\\\\Stop sign\\\\47a0ccf41b7023e2.jpg'], 'suitcase': ['D:\\\\AGH\\\\VI semestr\\\\ML\\\\datasetGoogle\\\\OIDv4_ToolKit\\\\OID\\\\Dataset\\\\test\\\\Suitcase\\\\dea289fcdfdbc0f5.jpg'], 'surfboard': ['D:\\\\AGH\\\\VI semestr\\\\ML\\\\datasetGoogle\\\\OIDv4_ToolKit\\\\OID\\\\Dataset\\\\test\\\\Surfboard\\\\cd781d24c07218e6.jpg'], 'teddy bear': ['D:\\\\AGH\\\\VI semestr\\\\ML\\\\datasetGoogle\\\\OIDv4_ToolKit\\\\OID\\\\Dataset\\\\test\\\\Teddy bear\\\\74a814b01fff26b7.jpg'], 'telephone': ['D:\\\\AGH\\\\VI semestr\\\\ML\\\\datasetGoogle\\\\OIDv4_ToolKit\\\\OID\\\\Dataset\\\\test\\\\Telephone\\\\03519b7eda6580b9.jpg'], 'television': ['D:\\\\AGH\\\\VI semestr\\\\ML\\\\datasetGoogle\\\\OIDv4_ToolKit\\\\OID\\\\Dataset\\\\test\\\\Television\\\\1bcc4f38521cf717.jpg'], 'tennis racket': ['D:\\\\AGH\\\\VI semestr\\\\ML\\\\datasetGoogle\\\\OIDv4_ToolKit\\\\OID\\\\Dataset\\\\test\\\\Tennis racket\\\\f0fab3311d794cbd.jpg'], 'tie': ['D:\\\\AGH\\\\VI semestr\\\\ML\\\\datasetGoogle\\\\OIDv4_ToolKit\\\\OID\\\\Dataset\\\\test\\\\Tie\\\\1ea4a3fad9693ad1.jpg'], 'toaster': ['D:\\\\AGH\\\\VI semestr\\\\ML\\\\datasetGoogle\\\\OIDv4_ToolKit\\\\OID\\\\Dataset\\\\test\\\\Toaster\\\\1cf3197242e16924.jpg'], 'toilet': ['D:\\\\AGH\\\\VI semestr\\\\ML\\\\datasetGoogle\\\\OIDv4_ToolKit\\\\OID\\\\Dataset\\\\test\\\\Toilet\\\\63709b141ad956d9.jpg'], 'toothbrush': ['D:\\\\AGH\\\\VI semestr\\\\ML\\\\datasetGoogle\\\\OIDv4_ToolKit\\\\OID\\\\Dataset\\\\test\\\\Toothbrush\\\\4d4ff8d304f397c2.jpg'], 'traffic light': ['D:\\\\AGH\\\\VI semestr\\\\ML\\\\datasetGoogle\\\\OIDv4_ToolKit\\\\OID\\\\Dataset\\\\test\\\\Traffic light\\\\b657fb701244d7c6.jpg'], 'traffic sign': ['D:\\\\AGH\\\\VI semestr\\\\ML\\\\datasetGoogle\\\\OIDv4_ToolKit\\\\OID\\\\Dataset\\\\test\\\\Traffic sign\\\\60ff2c943623994e.jpg'], 'train': ['D:\\\\AGH\\\\VI semestr\\\\ML\\\\datasetGoogle\\\\OIDv4_ToolKit\\\\OID\\\\Dataset\\\\test\\\\Train\\\\bf35fa961545c8ef.jpg'], 'truck': ['D:\\\\AGH\\\\VI semestr\\\\ML\\\\datasetGoogle\\\\OIDv4_ToolKit\\\\OID\\\\Dataset\\\\test\\\\Truck\\\\ce2d9614d7e5480d.jpg'], 'umbrella': ['D:\\\\AGH\\\\VI semestr\\\\ML\\\\datasetGoogle\\\\OIDv4_ToolKit\\\\OID\\\\Dataset\\\\test\\\\Umbrella\\\\5dbf9176536600c0.jpg'], 'vase': ['D:\\\\AGH\\\\VI semestr\\\\ML\\\\datasetGoogle\\\\OIDv4_ToolKit\\\\OID\\\\Dataset\\\\test\\\\Vase\\\\ce52c1b86920672c.jpg'], 'volleyball': ['D:\\\\AGH\\\\VI semestr\\\\ML\\\\datasetGoogle\\\\OIDv4_ToolKit\\\\OID\\\\Dataset\\\\test\\\\Volleyball\\\\5e3a978ab9c582de.jpg'], 'window': ['D:\\\\AGH\\\\VI semestr\\\\ML\\\\datasetGoogle\\\\OIDv4_ToolKit\\\\OID\\\\Dataset\\\\test\\\\Window\\\\2b3146e7217400ab.jpg'], 'wine glass': ['D:\\\\AGH\\\\VI semestr\\\\ML\\\\datasetGoogle\\\\OIDv4_ToolKit\\\\OID\\\\Dataset\\\\test\\\\Wine glass\\\\a415586759dd63bf.jpg'], 'zebra': ['D:\\\\AGH\\\\VI semestr\\\\ML\\\\datasetGoogle\\\\OIDv4_ToolKit\\\\OID\\\\Dataset\\\\test\\\\Zebra\\\\8e989aae24d45230.jpg']}\n"
     ]
    }
   ],
   "source": [
    "def get_paths_to_photos_and_labels(dataset_path=\"D:\\\\AGH\\\\VI semestr\\\\ML\\\\datasetGoogle\\\\OIDv4_ToolKit\\\\OID\\\\Dataset\\\\test\"):\n",
    "\n",
    "    directory_contents = os.listdir(dataset_path)\n",
    "\n",
    "    class_path_dict = {}\n",
    "\n",
    "    for subdirectory in directory_contents:\n",
    "        images = os.listdir(dataset_path + \"\\\\\" + subdirectory)\n",
    "\n",
    "        for image in images:\n",
    "            if image.endswith(\".jpg\"):\n",
    "                full_image_path = dataset_path + \"\\\\\" + subdirectory + \"\\\\\" + image\n",
    "                if subdirectory.lower() in class_path_dict:\n",
    "                    class_path_dict[subdirectory.lower()].append(full_image_path)\n",
    "                else:\n",
    "                    class_path_dict[subdirectory.lower()] = [full_image_path]\n",
    "\n",
    "    return class_path_dict\n",
    "\n",
    "print(get_paths_to_photos_and_labels())"
   ],
   "metadata": {
    "collapsed": false,
    "pycharm": {
     "name": "#%%\n"
    }
   }
  },
  {
   "cell_type": "code",
   "execution_count": 28,
   "outputs": [],
   "source": [
    "\n",
    "def get_all_images_metadata_dict(path=\"D:\\\\AGH\\\\VI semestr\\\\ML\\\\datasetGoogle\\\\OIDv4_ToolKit\\\\OID\\\\csv_folder\\\\test-annotations-bbox.csv\"):\n",
    "    my_dict = {}\n",
    "    with open(path, mode='r') as infile:\n",
    "        reader = csv.reader(infile)\n",
    "        for row in reader:\n",
    "            if row[0] not in my_dict:\n",
    "                my_dict[row[0]] = []\n",
    "                my_dict[row[0]].append(row[1:])\n",
    "            else:\n",
    "                my_dict[row[0]].append(row[1:])\n",
    "\n",
    "    return my_dict\n"
   ],
   "metadata": {
    "collapsed": false,
    "pycharm": {
     "name": "#%%\n"
    }
   }
  },
  {
   "cell_type": "code",
   "execution_count": 29,
   "outputs": [],
   "source": [
    "def get_class_id_to_open_image_label_map(path = \"D:\\\\AGH\\\\VI semestr\\\\ML\\\\datasetGoogle\\\\OIDv4_ToolKit\\\\OID\\\\csv_folder\\\\class-descriptions-boxable.csv\"):\n",
    "    f = open(path)\n",
    "    class_map = {}\n",
    "    for line in f:\n",
    "        data_line = line.rstrip().split(',')\n",
    "        class_map[data_line[0]] = data_line[1]\n",
    "    return class_map"
   ],
   "metadata": {
    "collapsed": false,
    "pycharm": {
     "name": "#%%\n"
    }
   }
  },
  {
   "cell_type": "code",
   "execution_count": 65,
   "outputs": [],
   "source": [
    "def convert_open_image_label_to_coco(class_map):\n",
    "\n",
    "    class_map = {value.lower():key for key, value in class_map.items()}\n",
    "\n",
    "    class_map[\"street sign\"] = class_map.pop(\"traffic sign\")\n",
    "    class_map[\"cow\"] = class_map.pop(\"bull\")\n",
    "    class_map[\"eye glasses\"] = class_map.pop(\"glasses\")\n",
    "    class_map[\"shoe\"] = class_map.pop(\"boot\")\n",
    "    class_map[\"hair drier\"] = class_map.pop(\"hair dryer\")\n",
    "    class_map[\"donut\"] = class_map.pop(\"doughnut\")\n",
    "    class_map[\"microwave\"] = class_map.pop(\"microwave oven\")\n",
    "    class_map[\"cell phone\"] = class_map.pop(\"telephone\")\n",
    "    class_map[\"keyboard\"] = class_map.pop(\"computer keyboard\")\n",
    "    class_map[\"remote\"] = class_map.pop(\"remote control\")\n",
    "    class_map[\"mouse\"] = class_map.pop(\"computer mouse\")\n",
    "    class_map[\"tv\"] = class_map.pop(\"television\")\n",
    "    class_map[\"dining table\"] = class_map.pop(\"kitchen dining room table\")\n",
    "    class_map[\"potted plant\"] = class_map.pop(\"plant\")\n",
    "    class_map[\"skis\"] = class_map.pop(\"ski\")\n",
    "    class_map[\"sports ball\"] = class_map.pop(\"ball\")\n",
    "    class_map[\"cup\"] = class_map.pop(\"coffee cup\")\n",
    "    class_map[\"frisbee\"] = class_map.pop(\"flying disc\")\n",
    "    # hairbrush\n",
    "\n",
    "    return {value:key for key, value in class_map.items()}\n",
    "\n"
   ],
   "metadata": {
    "collapsed": false,
    "pycharm": {
     "name": "#%%\n"
    }
   }
  },
  {
   "cell_type": "code",
   "execution_count": 31,
   "outputs": [],
   "source": [
    "def get_image_labels(image_name):\n",
    "    metadata = all_images_metadata_dict[image_name]\n",
    "    readable = []\n",
    "    for entry in metadata:\n",
    "        readable.append(class_id_to_coco_label_map[entry[1]])\n",
    "\n",
    "    return readable"
   ],
   "metadata": {
    "collapsed": false,
    "pycharm": {
     "name": "#%%\n"
    }
   }
  },
  {
   "cell_type": "code",
   "execution_count": 32,
   "outputs": [],
   "source": [
    "def predict_single_image(path=\"D:\\\\AGH\\\\VI semestr\\\\ML\\\\datasetGoogle\\\\OIDv4_ToolKit\\\\OID\\\\Dataset\\\\test\\\\Baseball glove\\\\0298c70279b6e842.jpg\"):\n",
    "    image_name = os.path.basename(path).split(\".\")[0]\n",
    "    image = Image.open(path)\n",
    "    result = predict(image)\n",
    "    results = {key:value.numpy() for key,value in result.items()}\n",
    "    # detection_classes = results['detection_classes']\n",
    "    # print(results)\n",
    "    # print(\"model thinks: \" + coco[detection_classes[0][0]])\n",
    "    # print(\"model thinks: \" + coco[detection_classes[0][1]])\n",
    "    # print(\"model thinks: \" + coco[detection_classes[0][2]])\n",
    "    # print(\"model thinks: \" + coco[detection_classes[0][3]])\n",
    "    # print(\"accually: \")\n",
    "    # print(get_image_labels(image_name))\n",
    "    return results, image_name"
   ],
   "metadata": {
    "collapsed": false,
    "pycharm": {
     "name": "#%%\n"
    }
   }
  },
  {
   "cell_type": "code",
   "execution_count": 80,
   "outputs": [],
   "source": [
    "# 1.\n",
    "#     bierzemy znane wszystkie klasy i boxy z openimage\n",
    "# 2.\n",
    "#     bierzemy znalezione klasy, boxy i scory tylko powyzej 0.5\n",
    "# 3.\n",
    "#     dla kazdego boxa z 1. liczymy wspólna/suma [PÓL] z każdym boxem z 2. => match if result >= 0.5\n",
    "# 4.\n",
    "#     jesli dla jednego boxa z 1 jest wiecej niz 1 z 2 to wbieriamy ten z najmocniejszym results\n",
    "#     jesli dla jednego boxa z 2 jest wiecej niz 1 z 1 to wbieriamy ten z najmocniejszym results\n",
    "# 5.\n",
    "# ????????????????????????????????????\n",
    "#     update confusion matrix\n",
    "# 6. ToDo\n",
    "\n",
    "\n",
    "def perform_analysis(model_result, image_name):\n",
    "    labels_original = get_image_labels(image_name)\n",
    "    print(all_images_metadata_dict[image_name][4])\n",
    "    # print(labels_original)\n",
    "    coco_labels_original = [i for i in labels_original if i in coco_list]\n",
    "    print(labels_original)\n",
    "    print(coco_labels_original)\n",
    "    print(len(model_result['detection_classes'][0]))\n",
    "    print(model_result)\n",
    "    detected_classes = model_result['detection_classes'][0]\n",
    "    detected_classes_probability = model_result['detection_scores'][0]\n",
    "\n",
    "    most_important_detections = []\n",
    "\n",
    "    # for d_class, score in zip(detected_classes,detected_classes_probability):\n",
    "    #     if score >= 0.5 or len(most_important_detections) <= 2:\n",
    "\n",
    "\n",
    "\n",
    "    print(detected_classes)\n",
    "    print(detected_classes_probability)\n",
    "    # readable_detected_classes = coco[]"
   ],
   "metadata": {
    "collapsed": false,
    "pycharm": {
     "name": "#%%\n"
    }
   }
  },
  {
   "cell_type": "code",
   "execution_count": 66,
   "outputs": [],
   "source": [
    "# obtain all needed dicts\n",
    "\n",
    "class_id_to_open_image_label_map = get_class_id_to_open_image_label_map()\n",
    "class_id_to_coco_label_map =  convert_open_image_label_to_coco(class_id_to_open_image_label_map)\n",
    "\n",
    "all_images_metadata_dict = get_all_images_metadata_dict()"
   ],
   "metadata": {
    "collapsed": false,
    "pycharm": {
     "name": "#%%\n"
    }
   }
  },
  {
   "cell_type": "code",
   "execution_count": 58,
   "outputs": [],
   "source": [
    "coco = get_coco_labels()\n",
    "coco_list  = list(coco.values())\n",
    "\n",
    "# get_downloadable_labels_str(coco)\n",
    "# copy returned string\n",
    "# open in terminal\n",
    "# python main.py downloader --classes <paste_here_your_string> --type_csv <validation/test/train> --limit XX"
   ],
   "metadata": {
    "collapsed": false,
    "pycharm": {
     "name": "#%%\n"
    }
   }
  },
  {
   "cell_type": "code",
   "execution_count": 81,
   "outputs": [
    {
     "name": "stdout",
     "output_type": "stream",
     "text": [
      "['freeform', '/m/03grzl', '1', '0.444979', '0.509261', '0.486219', '0.579589', '0', '0', '0', '0', '0']\n",
      "['glove', 'glove', 'person', 'baseball bat', 'baseball glove', 'man', 'sports equipment', 'sports equipment', 'sports equipment', 'sports equipment', 'sports equipment', 'sports equipment', 'sports equipment', 'sports equipment', 'sports equipment', 'sports equipment', 'sports equipment', 'sports equipment', 'clothing', 'clothing', 'clothing', 'clothing', 'clothing', 'clothing', 'human arm', 'human arm', 'human arm', 'human arm', 'human arm', 'human arm', 'human arm', 'human arm', 'human arm', 'human arm', 'human arm', 'human arm', 'human arm', 'human arm', 'human arm', 'human arm', 'human arm', 'sports uniform', 'sports uniform', 'sports uniform']\n",
      "['person', 'baseball bat', 'baseball glove']\n",
      "100\n",
      "{'detection_boxes': array([[[2.96614259e-01, 2.26320758e-01, 7.78682113e-01, 5.01484871e-01],\n",
      "        [3.21174473e-01, 4.48274255e-01, 7.57149994e-01, 6.20503068e-01],\n",
      "        [3.17986786e-01, 6.33381009e-01, 7.62762785e-01, 8.27470541e-01],\n",
      "        [4.81371045e-01, 4.44471121e-01, 5.65764010e-01, 5.00218570e-01],\n",
      "        [2.59432018e-01, 4.37504798e-03, 4.96183693e-01, 4.74704728e-02],\n",
      "        [3.48683119e-01, 2.54368126e-01, 4.02636081e-01, 2.86310792e-01],\n",
      "        [3.02151233e-01, 4.35390532e-01, 4.31517184e-01, 5.24797499e-01],\n",
      "        [0.00000000e+00, 7.58934855e-01, 1.42824531e-01, 8.28756094e-01],\n",
      "        [2.54548038e-03, 8.38032305e-01, 1.49735317e-01, 9.16824162e-01],\n",
      "        [2.75023103e-01, 1.72356814e-01, 5.00766277e-01, 2.73393482e-01],\n",
      "        [3.24427057e-03, 1.74380749e-01, 1.29887298e-01, 2.22638398e-01],\n",
      "        [2.61322060e-03, 7.44601712e-03, 1.29656523e-01, 9.38240141e-02],\n",
      "        [4.27801192e-01, 6.10063016e-01, 5.39046168e-01, 6.80894554e-01],\n",
      "        [5.17633220e-04, 8.16234946e-02, 1.28938153e-01, 1.75772399e-01],\n",
      "        [2.17694417e-03, 5.79627872e-01, 4.54802990e-01, 7.09363103e-01],\n",
      "        [1.34993894e-02, 6.91547036e-01, 1.40376568e-01, 7.69268990e-01],\n",
      "        [4.12643095e-03, 5.79740524e-01, 2.77758479e-01, 7.08981633e-01],\n",
      "        [0.00000000e+00, 9.15110469e-01, 1.41010970e-01, 9.96201396e-01],\n",
      "        [1.90648623e-02, 7.94056416e-01, 1.43998042e-01, 8.40063334e-01],\n",
      "        [6.93288743e-02, 2.79059500e-01, 3.84024501e-01, 4.01146382e-01],\n",
      "        [5.68714514e-02, 9.14185882e-01, 1.48102522e-01, 9.54494357e-01],\n",
      "        [0.00000000e+00, 3.93725187e-01, 1.23231299e-01, 5.04994929e-01],\n",
      "        [7.92247895e-03, 7.13060558e-01, 7.38674253e-02, 7.64184296e-01],\n",
      "        [4.81565684e-01, 4.78637218e-01, 5.41328907e-01, 5.14105916e-01],\n",
      "        [2.40338873e-03, 5.24904668e-01, 1.27254799e-01, 6.09878004e-01],\n",
      "        [3.83381039e-01, 3.24982628e-02, 4.88115191e-01, 7.10390732e-02],\n",
      "        [0.00000000e+00, 3.12464029e-01, 1.16710760e-01, 3.99569124e-01],\n",
      "        [4.65074275e-03, 6.52692914e-01, 7.86659792e-02, 6.99071407e-01],\n",
      "        [3.15753627e-03, 8.47505391e-01, 8.16232935e-02, 9.09482658e-01],\n",
      "        [7.85305798e-02, 5.30141354e-01, 1.26151353e-01, 6.00987673e-01],\n",
      "        [3.83009613e-01, 1.13734296e-02, 4.90637898e-01, 4.24211323e-02],\n",
      "        [3.44912589e-01, 3.79038453e-01, 3.84500444e-01, 4.24108624e-01],\n",
      "        [3.43051225e-01, 3.40402931e-01, 4.04990345e-01, 4.17258829e-01],\n",
      "        [4.78588976e-02, 2.77206928e-01, 2.62064993e-01, 4.01820928e-01],\n",
      "        [3.44619095e-01, 2.44328722e-01, 4.80529398e-01, 2.95200765e-01],\n",
      "        [8.78228694e-02, 8.93373668e-01, 1.44116893e-01, 9.28430259e-01],\n",
      "        [2.48836070e-01, 7.27822423e-01, 4.05911475e-01, 7.81816363e-01],\n",
      "        [3.83381039e-01, 3.24982628e-02, 4.88115191e-01, 7.10390732e-02],\n",
      "        [0.00000000e+00, 2.90204287e-01, 2.36204386e-01, 4.04063523e-01],\n",
      "        [9.69822053e-04, 1.33665890e-01, 1.28267929e-01, 1.87293768e-01],\n",
      "        [5.67049623e-01, 4.43163097e-01, 6.29331768e-01, 4.84690130e-01],\n",
      "        [3.41068080e-04, 6.88531518e-01, 6.49852678e-02, 7.25689650e-01],\n",
      "        [1.32860495e-02, 4.65261310e-01, 1.24734506e-01, 5.27678430e-01],\n",
      "        [3.26281786e-01, 2.53546506e-01, 4.03658271e-01, 2.88776428e-01],\n",
      "        [2.00555563e-01, 2.06559122e-01, 2.56900519e-01, 2.52818078e-01],\n",
      "        [4.62288380e-01, 4.64969248e-01, 4.94028270e-01, 4.97602850e-01],\n",
      "        [0.00000000e+00, 4.14511681e-01, 5.76390401e-02, 4.67966259e-01],\n",
      "        [4.32576090e-01, 1.34887863e-02, 4.92715210e-01, 4.18553278e-02],\n",
      "        [8.15921376e-05, 2.17316866e-01, 1.11144267e-01, 2.62821853e-01],\n",
      "        [1.78662641e-03, 0.00000000e+00, 1.13649957e-01, 2.49350518e-02],\n",
      "        [6.39222443e-01, 3.23005855e-01, 7.04172254e-01, 3.36259902e-01],\n",
      "        [2.93933362e-01, 4.32456702e-01, 5.57855785e-01, 5.28145313e-01],\n",
      "        [7.68477563e-03, 8.86701167e-01, 5.64418472e-02, 9.49254811e-01],\n",
      "        [4.54938054e-01, 3.84024121e-02, 4.96073306e-01, 6.07744642e-02],\n",
      "        [8.63747820e-02, 9.67258453e-01, 1.44662052e-01, 9.95563149e-01],\n",
      "        [0.00000000e+00, 7.94673860e-01, 6.36238679e-02, 8.40398848e-01],\n",
      "        [4.86644655e-01, 4.47308004e-01, 5.56195557e-01, 4.81042385e-01],\n",
      "        [0.00000000e+00, 7.84665346e-04, 3.94223571e-01, 8.66098642e-01],\n",
      "        [3.46941859e-01, 3.78427178e-01, 4.03090954e-01, 4.23971623e-01],\n",
      "        [3.83381039e-01, 3.24982628e-02, 4.88115191e-01, 7.10390732e-02],\n",
      "        [3.48141670e-01, 2.17235982e-01, 4.52933133e-01, 2.73973972e-01],\n",
      "        [1.96063727e-01, 1.94542378e-01, 3.60942036e-01, 2.67536908e-01],\n",
      "        [3.07052314e-01, 3.71496677e-01, 3.69501293e-01, 4.19729471e-01],\n",
      "        [0.00000000e+00, 3.91266406e-01, 4.83190566e-02, 4.25930142e-01],\n",
      "        [1.46957976e-03, 2.58965075e-01, 6.56450167e-02, 2.95650542e-01],\n",
      "        [1.04558922e-01, 9.86235738e-01, 1.49195805e-01, 1.00000000e+00],\n",
      "        [0.00000000e+00, 7.62602270e-01, 6.95037171e-02, 8.22215021e-01],\n",
      "        [1.12747818e-01, 9.34920609e-01, 1.41027763e-01, 9.44012105e-01],\n",
      "        [1.04734175e-01, 9.25368130e-01, 1.45962387e-01, 9.45120633e-01],\n",
      "        [2.55874712e-02, 6.23110235e-02, 4.06456470e-01, 6.96184039e-01],\n",
      "        [4.60848778e-01, 3.87527019e-01, 5.17996132e-01, 4.31286544e-01],\n",
      "        [9.12162662e-02, 1.09789371e-01, 6.87835395e-01, 8.98716807e-01],\n",
      "        [2.97318935e-01, 3.07692885e-01, 3.85070682e-01, 3.72002661e-01],\n",
      "        [4.53741521e-01, 9.73036811e-02, 4.93612826e-01, 1.26375198e-01],\n",
      "        [0.00000000e+00, 1.17048383e-01, 4.10865128e-01, 1.00000000e+00],\n",
      "        [7.85305798e-02, 5.30141354e-01, 1.26151353e-01, 6.00987673e-01],\n",
      "        [0.00000000e+00, 1.79627538e-02, 4.18430626e-01, 9.42653239e-01],\n",
      "        [1.04734175e-01, 9.25368130e-01, 1.45962387e-01, 9.45120633e-01],\n",
      "        [4.77775663e-01, 1.23705842e-01, 5.00300467e-01, 1.51548937e-01],\n",
      "        [7.09548146e-02, 6.90222800e-01, 1.39435813e-01, 7.68259108e-01],\n",
      "        [8.15921376e-05, 2.17316866e-01, 1.11144267e-01, 2.62821853e-01],\n",
      "        [4.55143720e-01, 4.41068292e-01, 4.92635608e-01, 4.74058926e-01],\n",
      "        [3.07052314e-01, 3.71496677e-01, 3.69501293e-01, 4.19729471e-01],\n",
      "        [0.00000000e+00, 8.34307373e-01, 6.51071891e-02, 8.63493979e-01],\n",
      "        [2.36477097e-03, 4.60139096e-01, 5.42387217e-02, 5.16630709e-01],\n",
      "        [3.84896174e-02, 2.65219688e-01, 6.99975118e-02, 2.88888335e-01],\n",
      "        [0.00000000e+00, 7.17055202e-02, 4.09691155e-01, 1.00000000e+00],\n",
      "        [3.83381039e-01, 3.24982628e-02, 4.88115191e-01, 7.10390732e-02],\n",
      "        [2.54001748e-03, 7.59276092e-01, 6.14360720e-02, 7.81803310e-01],\n",
      "        [1.02697210e-02, 6.90114081e-01, 5.09422198e-02, 7.12721288e-01],\n",
      "        [3.46079230e-01, 3.65734696e-01, 3.82597923e-01, 3.90291452e-01],\n",
      "        [2.73825810e-03, 5.33366621e-01, 1.33294731e-01, 7.39773452e-01],\n",
      "        [4.94216643e-02, 8.78475457e-02, 1.09682158e-01, 1.23601705e-01],\n",
      "        [0.00000000e+00, 0.00000000e+00, 7.87258744e-01, 8.63791108e-01],\n",
      "        [7.67322537e-03, 2.86173552e-01, 5.09224534e-02, 3.44158798e-01],\n",
      "        [3.46941859e-01, 3.78427178e-01, 4.03090954e-01, 4.23971623e-01],\n",
      "        [3.74035425e-02, 8.01128685e-01, 1.43804744e-01, 8.42833221e-01],\n",
      "        [1.28835008e-01, 9.06164408e-01, 1.48147225e-01, 9.24052835e-01],\n",
      "        [1.10885156e-02, 9.03737962e-01, 7.13976622e-02, 9.48124588e-01],\n",
      "        [4.44718063e-01, 4.03957725e-01, 4.86746699e-01, 4.46314692e-01]]],\n",
      "      dtype=float32), 'detection_classes': array([[ 1.,  1.,  1., 40.,  1., 40.,  1.,  1.,  1.,  1.,  1.,  1., 40.,\n",
      "         1.,  1.,  1.,  1.,  1.,  1.,  1.,  1.,  1.,  1., 40.,  1., 39.,\n",
      "         1.,  1.,  1., 62., 39., 39., 39.,  1.,  1., 62.,  1., 47.,  1.,\n",
      "         1., 40.,  1.,  1.,  1.,  1., 37.,  1., 39.,  1.,  1., 37.,  1.,\n",
      "        62., 47., 62.,  1., 37.,  1.,  1., 44., 40.,  1.,  1.,  1.,  1.,\n",
      "         1.,  1., 32., 62.,  1.,  1.,  1.,  1., 39.,  1., 15.,  1., 47.,\n",
      "        39., 62., 62., 37., 62., 62.,  1., 37.,  1.,  1.,  1., 37.,  1.,\n",
      "         1., 47.,  1., 62., 40., 62., 47.,  1., 37.]], dtype=float32), 'detection_scores': array([[0.8117022 , 0.805038  , 0.759844  , 0.53948754, 0.47856426,\n",
      "        0.45724386, 0.44574663, 0.43735066, 0.43614155, 0.4095242 ,\n",
      "        0.3850174 , 0.37156284, 0.36745232, 0.36366504, 0.3527161 ,\n",
      "        0.339292  , 0.29369575, 0.28328156, 0.28081155, 0.27708113,\n",
      "        0.27611625, 0.2691869 , 0.26763773, 0.24498755, 0.24411628,\n",
      "        0.23427054, 0.23180085, 0.229426  , 0.22479087, 0.21812505,\n",
      "        0.19825557, 0.19754449, 0.19625276, 0.19191623, 0.18600199,\n",
      "        0.17761701, 0.17184356, 0.16895261, 0.16807619, 0.16331285,\n",
      "        0.16289508, 0.16192484, 0.16108736, 0.1580958 , 0.15339705,\n",
      "        0.1518156 , 0.15037945, 0.14735943, 0.14347121, 0.14297482,\n",
      "        0.14153078, 0.13930821, 0.1345804 , 0.13412401, 0.13371223,\n",
      "        0.13340119, 0.13225272, 0.12938023, 0.1287426 , 0.12810317,\n",
      "        0.12721577, 0.12641513, 0.12532151, 0.12317416, 0.11897549,\n",
      "        0.11885479, 0.11833054, 0.11799052, 0.11791071, 0.11778685,\n",
      "        0.11308104, 0.11084613, 0.10982791, 0.10920098, 0.10884273,\n",
      "        0.10853922, 0.10727978, 0.10713652, 0.10686392, 0.10684025,\n",
      "        0.10610443, 0.10597983, 0.10516366, 0.10231623, 0.10210747,\n",
      "        0.10168904, 0.1012499 , 0.10040215, 0.09819698, 0.09814665,\n",
      "        0.09785712, 0.09762368, 0.09737176, 0.09708613, 0.09708473,\n",
      "        0.09442064, 0.09428227, 0.09362161, 0.09285137, 0.09086224]],\n",
      "      dtype=float32), 'num_detections': array([100.], dtype=float32)}\n",
      "[ 1.  1.  1. 40.  1. 40.  1.  1.  1.  1.  1.  1. 40.  1.  1.  1.  1.  1.\n",
      "  1.  1.  1.  1.  1. 40.  1. 39.  1.  1.  1. 62. 39. 39. 39.  1.  1. 62.\n",
      "  1. 47.  1.  1. 40.  1.  1.  1.  1. 37.  1. 39.  1.  1. 37.  1. 62. 47.\n",
      " 62.  1. 37.  1.  1. 44. 40.  1.  1.  1.  1.  1.  1. 32. 62.  1.  1.  1.\n",
      "  1. 39.  1. 15.  1. 47. 39. 62. 62. 37. 62. 62.  1. 37.  1.  1.  1. 37.\n",
      "  1.  1. 47.  1. 62. 40. 62. 47.  1. 37.]\n",
      "[0.8117022  0.805038   0.759844   0.53948754 0.47856426 0.45724386\n",
      " 0.44574663 0.43735066 0.43614155 0.4095242  0.3850174  0.37156284\n",
      " 0.36745232 0.36366504 0.3527161  0.339292   0.29369575 0.28328156\n",
      " 0.28081155 0.27708113 0.27611625 0.2691869  0.26763773 0.24498755\n",
      " 0.24411628 0.23427054 0.23180085 0.229426   0.22479087 0.21812505\n",
      " 0.19825557 0.19754449 0.19625276 0.19191623 0.18600199 0.17761701\n",
      " 0.17184356 0.16895261 0.16807619 0.16331285 0.16289508 0.16192484\n",
      " 0.16108736 0.1580958  0.15339705 0.1518156  0.15037945 0.14735943\n",
      " 0.14347121 0.14297482 0.14153078 0.13930821 0.1345804  0.13412401\n",
      " 0.13371223 0.13340119 0.13225272 0.12938023 0.1287426  0.12810317\n",
      " 0.12721577 0.12641513 0.12532151 0.12317416 0.11897549 0.11885479\n",
      " 0.11833054 0.11799052 0.11791071 0.11778685 0.11308104 0.11084613\n",
      " 0.10982791 0.10920098 0.10884273 0.10853922 0.10727978 0.10713652\n",
      " 0.10686392 0.10684025 0.10610443 0.10597983 0.10516366 0.10231623\n",
      " 0.10210747 0.10168904 0.1012499  0.10040215 0.09819698 0.09814665\n",
      " 0.09785712 0.09762368 0.09737176 0.09708613 0.09708473 0.09442064\n",
      " 0.09428227 0.09362161 0.09285137 0.09086224]\n"
     ]
    }
   ],
   "source": [
    "results, image_name = predict_single_image()\n",
    "s = perform_analysis(results, image_name)"
   ],
   "metadata": {
    "collapsed": false,
    "pycharm": {
     "name": "#%%\n"
    }
   }
  }
 ],
 "metadata": {
  "kernelspec": {
   "display_name": "Python 3",
   "language": "python",
   "name": "python3"
  },
  "language_info": {
   "codemirror_mode": {
    "name": "ipython",
    "version": 2
   },
   "file_extension": ".py",
   "mimetype": "text/x-python",
   "name": "python",
   "nbconvert_exporter": "python",
   "pygments_lexer": "ipython2",
   "version": "2.7.6"
  }
 },
 "nbformat": 4,
 "nbformat_minor": 0
}