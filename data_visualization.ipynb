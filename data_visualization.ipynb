{
 "cells": [
  {
   "cell_type": "code",
   "execution_count": 1,
   "outputs": [],
   "source": [
    "import urllib3\n",
    "import os\n",
    "\n",
    "def open_matrix(filename='outfile_kuba.txt'):\n",
    "    with open(filename, 'r') as f:\n",
    "        l = [[int(float(num)) for num in line.split(' ')] for line in f]\n",
    "    return l\n",
    "\n",
    "\n",
    "def get_coco_labels():\n",
    "    http = urllib3.PoolManager()\n",
    "    r = http.request('GET', 'https://raw.githubusercontent.com/amikelive/coco-labels/master/coco-labels-paper.txt')\n",
    "    dane = r.data.decode('UTF-8')\n",
    "    my_data = dane.split('\\n')\n",
    "\n",
    "    coco = {i+1: my_data[i] for i in range(0,len(my_data))}\n",
    "    coco.pop(91) # remove hairbrush\n",
    "    return coco"
   ],
   "metadata": {
    "collapsed": false,
    "pycharm": {
     "name": "#%%\n"
    }
   }
  },
  {
   "cell_type": "code",
   "execution_count": null,
   "outputs": [],
   "source": [
    "coco = get_coco_labels()\n",
    "\n",
    "coco_readable_to_index = {value:key for key, value in coco.items()}\n",
    "\n",
    "def get_all_detections(confusion_matrix, class_name):\n",
    "    return confusion_matrix[coco_readable_to_index[class_name]-1][:-1]\n",
    "\n",
    "def get_TP(confusion_matrix, class_name):\n",
    "    return confusion_matrix[coco_readable_to_index[class_name]-1][coco_readable_to_index[class_name]-1]\n",
    "\n",
    "# not detected\n",
    "def get_FN(confusion_matrix, class_name):\n",
    "    return confusion_matrix[coco_readable_to_index[class_name]-1][-1]\n",
    "\n",
    "def get_FP(confusion_matrix, class_name):\n",
    "    return sum(get_all_detections(confusion_matrix, class_name)) - get_TP(class_name)\n",
    "\n",
    "\n",
    "\n",
    "def get_precision(confusion_matrix, class_name):\n",
    "    return get_TP(confusion_matrix, class_name) / get_all_detections(confusion_matrix, class_name)\n",
    "\n",
    "def get_recall(confusion_matrix, class_name):\n",
    "    return get_TP(confusion_matrix, class_name) / ((get_TP(confusion_matrix, class_name))+get_FN(confusion_matrix, class_name))\n",
    "\n",
    "def get_F1_score(confusion_matrix, class_name):\n",
    "    numerator = 2 * get_TP(confusion_matrix, class_name)\n",
    "    denominator = numerator + get_FP(confusion_matrix, class_name) + get_FN(confusion_matrix, class_name)\n",
    "\n",
    "    return numerator/denominator"
   ],
   "metadata": {
    "collapsed": false,
    "pycharm": {
     "name": "#%%\n"
    }
   }
  },
  {
   "cell_type": "code",
   "execution_count": 20,
   "outputs": [],
   "source": [
    "# tmp = []\n",
    "# for row in confusion_matrix:\n",
    "#     normalized_row = []\n",
    "#     for value in row:\n",
    "#         normalized_row.append(value/(sum(row)))\n",
    "#     tmp.append(normalized_row)\n",
    "\n",
    "\n",
    "def read_matrices(model_name):\n",
    "    matrices = []\n",
    "    files = os.listdir(model_name)\n",
    "    for file in files:\n",
    "        if file.endswith(\".txt\"):\n",
    "            resolution = file.split(\"_\")[0]\n",
    "            if resolution.split(\"x\")[0] != \"None\":\n",
    "                resolution_int = int(resolution.split(\"x\")[0]) * int(resolution.split(\"x\")[1])\n",
    "            else:\n",
    "                resolution_int = 0\n",
    "            matrices.append((resolution_int, resolution, open_matrix(model_name + \"\\\\\" + file)))\n",
    "\n",
    "    matrices.sort(key = lambda x: x[0])\n",
    "    return matrices"
   ],
   "metadata": {
    "collapsed": false,
    "pycharm": {
     "name": "#%%\n"
    }
   }
  },
  {
   "cell_type": "code",
   "execution_count": 21,
   "outputs": [],
   "source": [
    "\n",
    "matrices = read_matrices(\"ssd+mobilenet_v2\")"
   ],
   "metadata": {
    "collapsed": false,
    "pycharm": {
     "name": "#%%\n"
    }
   }
  }
 ],
 "metadata": {
  "kernelspec": {
   "display_name": "Python 3",
   "language": "python",
   "name": "python3"
  },
  "language_info": {
   "codemirror_mode": {
    "name": "ipython",
    "version": 2
   },
   "file_extension": ".py",
   "mimetype": "text/x-python",
   "name": "python",
   "nbconvert_exporter": "python",
   "pygments_lexer": "ipython2",
   "version": "2.7.6"
  }
 },
 "nbformat": 4,
 "nbformat_minor": 0
}